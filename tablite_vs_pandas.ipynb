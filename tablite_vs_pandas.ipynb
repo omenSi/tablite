{
 "cells": [
  {
   "cell_type": "markdown",
   "metadata": {},
   "source": [
    "# Coming to Tablite from Pandas\n",
    "\n",
    "If you're coming to Tablite from Pandas you will notice some differences.\n",
    "\n",
    "Here's the ultra short comparison to the documentation from Pandas:\n",
    "\n",
    "### 10 minutes intro to pandas\n",
    "The tutorials provide the generic overview:\n",
    "\n",
    "-  [pandas tutorial](https://pandas.pydata.org/docs/user_guide/10min.html#minutes-to-pandas) \n",
    "-  [tablite tutorial](https://github.com/root-11/tablite/blob/master/tutorial.ipynb) \n",
    "\n",
    "Some key differences\n",
    "\n",
    "\n",
    "| topic | Tablite |\n",
    "|---|---|\n",
    "| Viewing data | Just use `table.show()` |\n",
    "| Selection | Slicing works both on columns and rows, and you can filter using `any` or `all`: `table['A','B', 2:30:3].any(A=lambda x:x>3)` <br>to copy: `t2 = t.copy()`|\n",
    "| Missing data | tablite uses `mixed` column format for any format that isn't uniform<br>To get rid of rows with `None`s and `np.nan`s use any:<br>`table.drop_na()` <br> `table.replace(None,5)` <br> `table.replace_missing_values(sources, target)` |\n",
    "|Operations| Descriptive statistics are on a colum by column basis:<br>`table['a'].statistics()` <br> the pandas function `df.apply` doesn't exist in tablite. Use a list comprehension instead. For example: `df.apply(np.cumsum)` is just `np.cumsum(t)` <br> \"histogramming\" in tablite is per column: `table['a'].histogram()` <br> string methods? Use list comprehensions: `table['A', 'B'].any(A=lambda x: \"hello\" in x, B=lambda x: \"world\" in x)` |\n",
    "|Merge | Concatenation: Just use `+` or `+=` as in `t1 = t2 + t3 += t4`. <br>If the columns are out of order, tablite will sort the headers according to the order in the first table.<br>If you're worried that the header mismatch use `t1.,stack(t2)` <br> Joins is ANSI92 compliant: `t1.join(t2, <...args...>)`. |\n",
    "|Grouping| tablite supports multikey groupby using `from tablite import Groupby as gb`.<br> `table.groupby(keys, functions)` |\n",
    "|Reshaping| to reshape a table use `transpose`. <br> to perform pivot table like operations, use: `table.pivot(rows, columns, functions)` subtotals aside tablite will give you everything Excels pivot table can do. |\n",
    "|Time series| To convert time series use a list comprehension.<br>`t1['GMT'] = [timedelta(hours=1) + v for v in t1['date'] ]` <br> to generate a date range use:<br>`from Tablite import daterange`<br>`t['date'] = date_range(start=2022/1/1, stop=2023/1/1, step=timedelta(days=1))`|\n",
    "|Categorical| Pandas only seems to use this for sorting and grouping. <br> Tablite table has `.sort`, `.groupby` and `.pivot`  to achieve the same task. |\n",
    "|Plotting| import your favorite plotting package and feed it the values, such as:<br>`import matplotlib.pyplot as plt` <br> `plt.plot(t['a'],t['b'])` <br> `plt.showw()` |\n",
    "|Import/Export| tablite supports the same import/export options as pandas, but is slightly less work as tablite guesses the datatype for all ISOformats and uses multiprocessing. |\n",
    "|Gotchas| None really. Should you come across something non-pythonic, then please post it on the [issue list](https://github.com/root-11/tablite/issues). |\n"
   ]
  },
  {
   "cell_type": "markdown",
   "metadata": {},
   "source": [
    "\n",
    "\n",
    "### intro to data structures\n",
    "\n",
    "Pandas has `Series` and `DataFrame`. \n",
    "\n",
    "Tablite calls them `Column`s and `Table`s. A `Table` should have one or more `Column`s. `Table`s behave like a dict: `{column name: [list of values], ...}`\n",
    "\n",
    "Pandas has a thorough explanation of how to get data in, such as:\n"
   ]
  },
  {
   "cell_type": "markdown",
   "metadata": {},
   "source": [
    "\n",
    "```python\n",
    "import pandas as pd\n",
    "d = {\n",
    "    \"one\": pd.Series([1.0, 2.0, 3.0], index=[\"a\", \"b\", \"c\"]),\n",
    "    \"two\": pd.Series([1.0, 2.0, 3.0, 4.0], index=[\"a\", \"b\", \"c\", \"d\"]),\n",
    "}\n",
    "\n",
    "df = pd.DataFrame(d)\n",
    "```\n",
    "\n",
    "Doing the same in tablite requires:\n",
    "\n",
    "```python\n",
    "\n",
    "from tablite import Table\n",
    "t = Table()\n",
    "t['index'] = [\"a\", \"b\", \"c\", \"d\"]\n",
    "t['one'] = [1.0, 2.0, 3.0]\n",
    "t['two'] = [1.0, 2.0, 3.0, 4.0]\n",
    "```\n",
    "\n",
    "If you're lazy this also works:\n",
    "\n",
    "```python\n",
    "\n",
    "d = {\"one\": [1.0, 2.0, 3.0, 4.0], \"two\": [4.0, 3.0, 2.0, 1.0]}\n",
    "df = pd.DataFrame(d)\n",
    "t = Table.from_dict(d)\n",
    "```\n"
   ]
  },
  {
   "cell_type": "markdown",
   "metadata": {},
   "source": [
    "\n",
    "Pandas also permits the usage of namedtuples, which are unpacked upon entry.\n",
    "\n",
    "```python\n",
    "from collections import namedtuple\n",
    "Point = namedtuple(\"Point\", \"x y\")\n",
    "points = [Point(0, 0), Point(0, 3)]\n",
    "pd.DataFrame(points)\n",
    "```\n",
    "\n",
    "Doing that in tablite is a bit different. To unpack the named tuple, you should do so explicitly:\n",
    "\n",
    "```python\n",
    "t = Table()\n",
    "t['x'] = [p.x for p in points]\n",
    "t['y'] = [p.y for p in points]\n",
    "```\n",
    "However should you want to keep the points as namedtuple, you can do so in tablite:\n",
    "\n",
    "```python\n",
    "t = Table()\n",
    "t['points'] = points\n",
    "```\n",
    "Tablite will store a serialised version of the points, so your memory overhead will be close to zero.\n",
    "\n"
   ]
  },
  {
   "cell_type": "markdown",
   "metadata": {},
   "source": [
    "Transposing in pandas means \"rotate the table\".\n",
    "\n",
    "In tablite transpose can mean that too, but gives more options:\n",
    "\n",
    "```python\n",
    "\n",
    "t.transpose(on='a')  # rotate the table with 'a' becoming columns and the current columns becoming rows\n",
    "\n",
    "t.transpose(columns=['Monday', 'Tuesday','Wednesday', 'Thursday', 'Friday'], as='day')  # turns the columns into a single column under the heading of 'day'\n",
    "\n",
    "```\n"
   ]
  },
  {
   "cell_type": "code",
   "execution_count": null,
   "metadata": {},
   "outputs": [],
   "source": []
  },
  {
   "cell_type": "markdown",
   "metadata": {},
   "source": [
    "### Unique to tablite\n",
    "\n",
    "daterange  # similar in pd.\n",
    "\n",
    "datatypes.guess\n",
    "\n",
    "xround on dates\n",
    "\n",
    "replace missing values (source=[...], target=name)\n",
    "\n"
   ]
  }
 ],
 "metadata": {
  "kernelspec": {
   "display_name": "Python 3.10.5 ('tablite310')",
   "language": "python",
   "name": "python3"
  },
  "language_info": {
   "name": "python",
   "version": "3.10.5"
  },
  "orig_nbformat": 4,
  "vscode": {
   "interpreter": {
    "hash": "1b75c014ea7baa1f5b7be99940e6541d4a8a7395e27dcba8ac6dff802f822df2"
   }
  }
 },
 "nbformat": 4,
 "nbformat_minor": 2
}
