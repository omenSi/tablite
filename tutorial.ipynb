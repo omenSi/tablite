{
 "cells": [
  {
   "cell_type": "markdown",
   "metadata": {
    "pycharm": {
     "name": "#%% md\n"
    }
   },
   "source": [
    "# Tablite\n",
    "\n",
    "<table><tr>\n",
    "    <td> <img src=\"https://app.travis-ci.com/root-11/tablite.svg?branch=master\" alt=\"Build Status\" style=\"width: 100px;\"/> </td>\n",
    "    <td></td>\n",
    "        <td> <img src=\"https://codecov.io/gh/root-11/tablite/branch/master/graph/badge.svg\" alt=\"Code coverage\" style=\"width: 100px;\"/> </td>\n",
    "    <td></td>\n",
    "        <td> <img src=\"https://pepy.tech/badge/tablite\" alt=\"Downloads\" style=\"width: 100px;\"/> </td>\n",
    "    <td></td>\n",
    "        <td> <img src=\"https://pepy.tech/badge/tablite/month\" alt=\"Downloads / month\" style=\"width: 100px;\"/> </td>\n",
    "    <td></td>\n",
    "</tr></table>"
   ]
  },
  {
   "cell_type": "markdown",
   "metadata": {},
   "source": []
  },
  {
   "cell_type": "markdown",
   "metadata": {},
   "source": [
    "\n",
    "## Latest updates\n",
    "\n",
    "| Version    | Change                                                                                                                                          |\n",
    "|:-----------|:------------------------------------------------------------------------------------------------------------------------------------------------|\n",
    "| 2022.7.3 | table.to_json now takes kwargs: `row_count`, `columns`, `slice_`, `start_on` |\n",
    "| 2022.7.2 | documentation update. |\n",
    "| 2022.7.1 | bugfix. |\n",
    "| 2022.7.0 | BREAKING CHANGES<br>- Tablite now uses HDF5 as backend. <br>- Has multiprocessing enabled by default. <br>- Is 20x faster. <br>- Completely new API. |\n"
   ]
  },
  {
   "cell_type": "markdown",
   "metadata": {},
   "source": [
    "\n",
    "# Introduction\n",
    "\n",
    "We're all tired of reinventing the wheel when we need to process a bit of data.\n",
    "\n",
    "- Pandas has a huge memory overhead when the datatypes are messy (hint: They are!).\n",
    "- Numpy has become a language of it's own. It just doesn't seem pythonic anymore.\n",
    "- Arrows [isn't ready](https://arrow.apache.org/docs/python/dataset.html).\n",
    "- SQLite is great but just too slow, particularly on disk.\n",
    "- Protobuffer is just overkill for storing data when I still need to implement all the analytics after that.\n",
    "\n",
    "So what do we do? We write a custom built class for the problem at hand and\n",
    "discover that we've just spent 3 hours doing something that should have taken\n",
    "20 minutes. No more please!\n",
    "\n",
    "### Enter: [Tablite](https://pypi.org/project/tablite/)\n",
    "A python library for tables that does everything you need in 200kB.\n",
    "\n",
    "Install: `pip install tablite`\n",
    "\n",
    "Usage:  `>>> from tablite import Table`"
   ]
  },
  {
   "cell_type": "markdown",
   "metadata": {},
   "source": [
    "\n",
    "### Overview\n",
    "\n",
    "- Tablite handles all Python datatypes: `str`, `float`, `bool`, `int`, `date`, `datetime`, `time`, `timedelta` and `None`.\n",
    "- you can select:\n",
    "  - all rows in a column as `table['A']`\n",
    "  - rows across all columns as `table[4:8]`\n",
    "  - or a slice as `table['A', 'B', slice(4,8) ]`.\n",
    "- you to update with `table['A'][2] = new value`\n",
    "- you can store or send data using json, by:\n",
    "  - dumping to json: `json_str = table.to_json()`, or\n",
    "  - you can load it with `Table.from_json(json_str)`.\n",
    "- you can iterate over rows using `for row in Table.rows`.\n",
    "- you can ask `column_xyz in Table.colums` ?\n",
    "- load from files with `new_table = Table.import_file('this.csv')` which has automatic datatype detection\n",
    "- perform inner, outer & left sql join between tables as simple as `table_1.inner_join(table2, keys=['A', 'B'])`\n",
    "- summarise using `table.groupby( ... )`\n",
    "- create pivot tables using `groupby.pivot( ... )`\n",
    "- perform multi-criteria lookup in tables using `table1.lookup(table2, criteria=.....`\n",
    "\n"
   ]
  },
  {
   "cell_type": "markdown",
   "metadata": {},
   "source": [
    "A quick check before we start:"
   ]
  },
  {
   "cell_type": "code",
   "execution_count": 1,
   "metadata": {},
   "outputs": [],
   "source": [
    "from tablite.version import major,minor\n",
    "assert major >= 2022 and minor >=6\n",
    "from tablite import Table\n",
    "Table.reset_storage()"
   ]
  },
  {
   "cell_type": "markdown",
   "metadata": {},
   "source": [
    "\n",
    "### Examples\n",
    "\n",
    "Here are some examples:"
   ]
  },
  {
   "cell_type": "code",
   "execution_count": 2,
   "metadata": {
    "pycharm": {
     "name": "#%%\n"
    }
   },
   "outputs": [
    {
     "name": "stdout",
     "output_type": "stream",
     "text": [
      "+===+===+===+\n",
      "| # | A | B |\n",
      "|row|int|str|\n",
      "+---+---+---+\n",
      "|0  |  1|a  |\n",
      "|1  |  2|b  |\n",
      "|2  |  3|c  |\n",
      "+===+===+===+\n"
     ]
    }
   ],
   "source": [
    "from tablite import Table\n",
    "\n",
    "# there are three ways to create tables:\n",
    "t = Table()\n",
    "t['A'] = [1,2,3]\n",
    "t['B'] = ['a','b','c']\n",
    "t.show()\n"
   ]
  },
  {
   "cell_type": "code",
   "execution_count": 3,
   "metadata": {
    "pycharm": {
     "name": "#%%\n"
    }
   },
   "outputs": [],
   "source": [
    "# all columns at once (slower)\n",
    "t2 = Table()\n",
    "t2.add_columns('A','B')\n",
    "t2.add_rows((1,'a'),(2,'b'),(3,'c'))\n",
    "assert t==t2"
   ]
  },
  {
   "cell_type": "code",
   "execution_count": 4,
   "metadata": {
    "pycharm": {
     "name": "#%%\n"
    }
   },
   "outputs": [
    {
     "name": "stderr",
     "output_type": "stream",
     "text": [
      "splitting book1.csv for multiprocessing: 100%|██████████| 46/46 [00:00<00:00, 11528.32lines/s]\n",
      "100%|██████████| 1/1 [00:00<00:00,  2.03tasks/s]\n"
     ]
    },
    {
     "name": "stdout",
     "output_type": "stream",
     "text": [
      "+===+===+===============+===============+===============+===============+================+\n",
      "| # | a |       b       |       c       |       d       |       e       |       f        |\n",
      "|row|int|     float     |     float     |     float     |     float     |     float      |\n",
      "+---+---+---------------+---------------+---------------+---------------+----------------+\n",
      "|0  |  1|    0.060606061|    0.090909091|    0.121212121|    0.151515152|     0.181818182|\n",
      "|1  |  2|    0.121212121|    0.242424242|    0.484848485|     0.96969697|     1.939393939|\n",
      "|2  |  3|    0.242424242|    0.484848485|     0.96969697|    1.939393939|     3.878787879|\n",
      "|3  |  4|    0.484848485|     0.96969697|    1.939393939|    3.878787879|     7.757575758|\n",
      "|4  |  5|     0.96969697|    1.939393939|    3.878787879|    7.757575758|     15.51515152|\n",
      "|5  |  6|    1.939393939|    3.878787879|    7.757575758|    15.51515152|     31.03030303|\n",
      "|6  |  7|    3.878787879|    7.757575758|    15.51515152|    31.03030303|     62.06060606|\n",
      "|...|...|...            |...            |...            |...            |...             |\n",
      "|38 | 39|  16659267088.0|  33318534175.0|  66637068350.0| 133274000000.0|  266548000000.0|\n",
      "|39 | 40|  33318534175.0|  66637068350.0| 133274000000.0| 266548000000.0|  533097000000.0|\n",
      "|40 | 41|  66637068350.0| 133274000000.0| 266548000000.0| 533097000000.0| 1066190000000.0|\n",
      "|41 | 42| 133274000000.0| 266548000000.0| 533097000000.0|1066190000000.0| 2132390000000.0|\n",
      "|42 | 43| 266548000000.0| 533097000000.0|1066190000000.0|2132390000000.0| 4264770000000.0|\n",
      "|43 | 44| 533097000000.0|1066190000000.0|2132390000000.0|4264770000000.0| 8529540000000.0|\n",
      "|44 | 45|1066190000000.0|2132390000000.0|4264770000000.0|8529540000000.0|17059100000000.0|\n",
      "+===+===+===============+===============+===============+===============+================+\n"
     ]
    }
   ],
   "source": [
    "# or load data:\n",
    "t3 = Table.import_file('tests/data/book1.csv', import_as='csv', columns=None)\n",
    "\n",
    "# to view any table use .show(). Note that show gives either first and last 7 rows or the whole table if it is less than 20 rows.\n",
    "t3.show()"
   ]
  },
  {
   "cell_type": "code",
   "execution_count": 5,
   "metadata": {
    "pycharm": {
     "name": "#%%\n"
    }
   },
   "outputs": [
    {
     "name": "stdout",
     "output_type": "stream",
     "text": [
      "sample is of type <class 'dict'> and has the following entries:\n",
      "delimiter\n",
      "book1.csv\n",
      "\t ['a', 'b', 'c', 'd', 'e', 'f']\n",
      "\t ['1', '0.060606061', '0.090909091', '0.121212121', '0.151515152', '0.181818182']\n",
      "\t ['2', '0.121212121', '0.242424242', '0.484848485', '0.96969697', '1.939393939']\n",
      "\t ['3', '0.242424242', '0.484848485', '0.96969697', '1.939393939', '3.878787879']\n",
      "\t ['4', '0.484848485', '0.96969697', '1.939393939', '3.878787879', '7.757575758']\n",
      "\t ['5', '0.96969697', '1.939393939', '3.878787879', '7.757575758', '15.51515152']\n",
      "\t ['6', '1.939393939', '3.878787879', '7.757575758', '15.51515152', '31.03030303']\n",
      "\t ['7', '3.878787879', '7.757575758', '15.51515152', '31.03030303', '62.06060606']\n",
      "\t ['8', '7.757575758', '15.51515152', '31.03030303', '62.06060606', '124.1212121']\n",
      "\t ['9', '15.51515152', '31.03030303', '62.06060606', '124.1212121', '248.2424242']\n",
      "\t ['10', '31.03030303', '62.06060606', '124.1212121', '248.2424242', '496.4848485']\n",
      "\t ['11', '62.06060606', '124.1212121', '248.2424242', '496.4848485', '992.969697']\n"
     ]
    }
   ],
   "source": [
    "# should you however want to select the headers instead of importing everything\n",
    "# (which maybe timeconsuming), simply use get_headers(path)\n",
    "from tablite import get_headers\n",
    "from pathlib import Path\n",
    "path = Path('tests/data/book1.csv')\n",
    "sample = get_headers(path)\n",
    "print(f\"sample is of type {type(sample)} and has the following entries:\")\n",
    "for k,v in sample.items():\n",
    "    print(k)\n",
    "    if isinstance(v,list):\n",
    "        for r in sample[k]:\n",
    "            print(\"\\t\", r)"
   ]
  },
  {
   "cell_type": "code",
   "execution_count": 6,
   "metadata": {
    "pycharm": {
     "name": "#%%\n"
    }
   },
   "outputs": [
    {
     "name": "stdout",
     "output_type": "stream",
     "text": [
      "+===+===+===+===+\n",
      "| # | A | B | C |\n",
      "|row|int|str|int|\n",
      "+---+---+---+---+\n",
      "|0  |  1|a  |  4|\n",
      "|1  |  2|b  |  5|\n",
      "|2  |  3|c  |  6|\n",
      "+===+===+===+===+\n"
     ]
    }
   ],
   "source": [
    "# to extend a table by adding columns, use t[new] = [new values]\n",
    "t['C'] = [4,5,6]\n",
    "# but make sure the column has the same length as the rest of the table!\n",
    "t.show()"
   ]
  },
  {
   "cell_type": "code",
   "execution_count": 7,
   "metadata": {
    "pycharm": {
     "name": "#%%\n"
    }
   },
   "outputs": [
    {
     "name": "stdout",
     "output_type": "stream",
     "text": [
      "+===+=======================================+\n",
      "| # |                 mixed                 |\n",
      "|row|                 mixed                 |\n",
      "+---+---------------------------------------+\n",
      "|0  |                                     -1|\n",
      "|1  |                                      0|\n",
      "|2  |                                      1|\n",
      "|3  |-12345678909876543211234567890987654321|\n",
      "|4  |None                                   |\n",
      "|5  |                                    nan|\n",
      "|6  |one                                    |\n",
      "|7  |                                       |\n",
      "|8  |                                   True|\n",
      "|9  |                                   True|\n",
      "|10 |                                    inf|\n",
      "|11 |                                   0.01|\n",
      "|12 |                             2000-01-01|\n",
      "|13 |             2002-02-03 23:00:04.006660|\n",
      "|14 |                               12:12:12|\n",
      "|15 |                        3 days, 1:34:38|\n",
      "+===+=======================================+\n"
     ]
    }
   ],
   "source": [
    "# should you want to mix datatypes, tablite will not complain:\n",
    "from datetime import datetime, date,time,timedelta\n",
    "import numpy as np\n",
    "# What you put in ...\n",
    "t4 = Table()\n",
    "t4['mixed'] = [\n",
    "    -1,0,1,  # regular integers\n",
    "    -12345678909876543211234567890987654321,  # very very large integer\n",
    "    None,np.nan,  # null values \n",
    "    \"one\", \"\",  # strings\n",
    "    True,False,  # booleans\n",
    "    float('inf'), 0.01,  # floats\n",
    "    date(2000,1,1),   # date\n",
    "    datetime(2002,2,3,23,0,4,6660),  # datetime\n",
    "    time(12,12,12),  # time\n",
    "    timedelta(days=3, seconds=5678)  # timedelta\n",
    "]\n",
    "# ... is exactly what you get out:\n",
    "t4.show()"
   ]
  },
  {
   "cell_type": "code",
   "execution_count": 8,
   "metadata": {},
   "outputs": [
    {
     "name": "stdout",
     "output_type": "stream",
     "text": [
      "-1\n",
      "0\n",
      "1\n",
      "-12345678909876543211234567890987654321\n",
      "None\n",
      "nan\n",
      "one\n",
      "\n",
      "True\n",
      "True\n",
      "inf\n",
      "0.01\n",
      "2000-01-01\n",
      "2002-02-03 23:00:04.006660\n",
      "12:12:12\n",
      "3 days, 1:34:38\n"
     ]
    }
   ],
   "source": [
    "# also if you claim the values back as a python list:\n",
    "for item in list(t4['mixed']):\n",
    "    print(item)"
   ]
  },
  {
   "cell_type": "markdown",
   "metadata": {
    "pycharm": {
     "name": "#%%\n"
    }
   },
   "source": [
    "The column itself only tells us the number of entries:\n"
   ]
  },
  {
   "cell_type": "code",
   "execution_count": 9,
   "metadata": {},
   "outputs": [
    {
     "name": "stdout",
     "output_type": "stream",
     "text": [
      "<Column>(16 values | key=38)\n"
     ]
    }
   ],
   "source": [
    "print(t4['mixed'])"
   ]
  },
  {
   "cell_type": "code",
   "execution_count": 10,
   "metadata": {
    "pycharm": {
     "name": "#%%\n"
    }
   },
   "outputs": [
    {
     "name": "stdout",
     "output_type": "stream",
     "text": [
      "<class 'NoneType'> 1\n",
      "<class 'bool'> 2\n",
      "<class 'int'> 4\n",
      "<class 'float'> 3\n",
      "<class 'str'> 2\n",
      "<class 'datetime.datetime'> 1\n",
      "<class 'datetime.date'> 1\n",
      "<class 'datetime.time'> 1\n",
      "<class 'datetime.timedelta'> 1\n"
     ]
    }
   ],
   "source": [
    "# to view the datatypes in a column, use Column.types()\n",
    "type_dict = t4['mixed'].types()\n",
    "for k,v in type_dict.items():\n",
    "    print(k,v)"
   ]
  },
  {
   "cell_type": "code",
   "execution_count": 11,
   "metadata": {
    "pycharm": {
     "name": "#%%\n"
    }
   },
   "outputs": [
    {
     "name": "stdout",
     "output_type": "stream",
     "text": [
      "+===+===+===============+===============+===============+===============+================+\n",
      "| # | a |       b       |       c       |       d       |       e       |       f        |\n",
      "|row|int|     float     |     float     |     float     |     float     |     float      |\n",
      "+---+---+---------------+---------------+---------------+---------------+----------------+\n",
      "|0  |  1|    0.060606061|    0.090909091|    0.121212121|    0.151515152|     0.181818182|\n",
      "|1  |  2|    0.121212121|    0.242424242|    0.484848485|     0.96969697|     1.939393939|\n",
      "|2  |  3|    0.242424242|    0.484848485|     0.96969697|    1.939393939|     3.878787879|\n",
      "|3  |  4|    0.484848485|     0.96969697|    1.939393939|    3.878787879|     7.757575758|\n",
      "|4  |  5|     0.96969697|    1.939393939|    3.878787879|    7.757575758|     15.51515152|\n",
      "|5  |  6|    1.939393939|    3.878787879|    7.757575758|    15.51515152|     31.03030303|\n",
      "|6  |  7|    3.878787879|    7.757575758|    15.51515152|    31.03030303|     62.06060606|\n",
      "|...|...|...            |...            |...            |...            |...             |\n",
      "|38 | 39|  16659267088.0|  33318534175.0|  66637068350.0| 133274000000.0|  266548000000.0|\n",
      "|39 | 40|  33318534175.0|  66637068350.0| 133274000000.0| 266548000000.0|  533097000000.0|\n",
      "|40 | 41|  66637068350.0| 133274000000.0| 266548000000.0| 533097000000.0| 1066190000000.0|\n",
      "|41 | 42| 133274000000.0| 266548000000.0| 533097000000.0|1066190000000.0| 2132390000000.0|\n",
      "|42 | 43| 266548000000.0| 533097000000.0|1066190000000.0|2132390000000.0| 4264770000000.0|\n",
      "|43 | 44| 533097000000.0|1066190000000.0|2132390000000.0|4264770000000.0| 8529540000000.0|\n",
      "|44 | 45|1066190000000.0|2132390000000.0|4264770000000.0|8529540000000.0|17059100000000.0|\n",
      "+===+===+===============+===============+===============+===============+================+\n"
     ]
    }
   ],
   "source": [
    "# you may notice that all datatypes in t3 where identified as floats. \n",
    "# This is because tablite guesses the most probable datatype using the\n",
    "# .guess function on each column\n",
    "from tablite.datatypes import DataTypes\n",
    "t3['a'] = DataTypes.guess(t3['a'])\n",
    "# You can also convert the datatype using a list comprehension\n",
    "t3['b'] = [float(v) for v in t3['b']]\n",
    "t3.show()"
   ]
  },
  {
   "cell_type": "markdown",
   "metadata": {
    "pycharm": {
     "name": "#%% md\n"
    }
   },
   "source": [
    "# API Examples\n",
    "\n",
    "In the following sections, example are given of the Tablite API's power features:\n",
    "\n",
    "- Iteration\n",
    "- Append\n",
    "- Sort\n",
    "- Filter\n",
    "- Index\n",
    "- Search All \n",
    "- Search Any\n",
    "- Lookup\n",
    "- Join inner, outer, \n",
    "- GroupBy\n",
    "- Pivot table\n"
   ]
  },
  {
   "cell_type": "markdown",
   "metadata": {},
   "source": [
    "# ITERATION!\n",
    "\n",
    "**_Iteration_** supports for loops and list comprehension at the speed of light:\n",
    "\n",
    "Just use `[r for r in table.rows]`, or:\n",
    "\n",
    "    for row in table.rows:\n",
    "        row ...\n",
    "\n",
    "Here's a more practical use case:\n",
    "\n",
    "(1) Imagine a table with columns a,b,c,d,e (all integers) like this:"
   ]
  },
  {
   "cell_type": "code",
   "execution_count": 12,
   "metadata": {},
   "outputs": [],
   "source": [
    "t = Table()\n",
    "for column_name in 'abcde':\n",
    "    t[column_name] =[i for i in range(5)]"
   ]
  },
  {
   "cell_type": "markdown",
   "metadata": {},
   "source": [
    "(2) we want to add two new columns using the functions:"
   ]
  },
  {
   "cell_type": "code",
   "execution_count": 13,
   "metadata": {},
   "outputs": [],
   "source": [
    "def f1(a,b,c):\n",
    "    return a+b+c+1\n",
    "def f2(b,c,d):\n",
    "    return b*c*d"
   ]
  },
  {
   "cell_type": "markdown",
   "metadata": {},
   "source": [
    "(3) and we want to compute two new columns `f` and `g`:"
   ]
  },
  {
   "cell_type": "code",
   "execution_count": 14,
   "metadata": {},
   "outputs": [],
   "source": [
    "t.add_columns('f', 'g')"
   ]
  },
  {
   "cell_type": "markdown",
   "metadata": {},
   "source": [
    "(4) we can now use the filter, to iterate over the table, and add the values to the two new columns:"
   ]
  },
  {
   "cell_type": "code",
   "execution_count": 15,
   "metadata": {},
   "outputs": [
    {
     "name": "stdout",
     "output_type": "stream",
     "text": [
      "+===+===+===+===+===+===+===+===+\n",
      "| # | a | b | c | d | e | f | g |\n",
      "|row|int|int|int|int|int|int|int|\n",
      "+---+---+---+---+---+---+---+---+\n",
      "|0  |  0|  0|  0|  0|  0|  1|  0|\n",
      "|1  |  1|  1|  1|  1|  1|  4|  1|\n",
      "|2  |  2|  2|  2|  2|  2|  7|  8|\n",
      "|3  |  3|  3|  3|  3|  3| 10| 27|\n",
      "|4  |  4|  4|  4|  4|  4| 13| 64|\n",
      "+===+===+===+===+===+===+===+===+\n"
     ]
    }
   ],
   "source": [
    "for row in t['a', 'b', 'c', 'd'].rows:\n",
    "    a, b, c, d = row\n",
    "\n",
    "    t['f'].append(f1(a, b, c))\n",
    "    t['g'].append(f2(b, c, d))\n",
    "\n",
    "assert len(t) == 5\n",
    "assert list(t.columns) == list('abcdefg')\n",
    "t.show()"
   ]
  },
  {
   "cell_type": "markdown",
   "metadata": {},
   "source": [
    "### Create Index / Indices\n",
    "\n",
    "\n",
    "**_Index_** supports multi-key indexing using args: `table.index('B','C')`.\n",
    "\n",
    "This gives you a dictionary with the key as a tuple and the indices as a set, e.g.\n",
    "\n",
    "    indices = {\n",
    "        (1, 44): {2,3,33,35}\n",
    "        (2, 44): {4,5,32}\n",
    "    }\n",
    "\n",
    "You can now fetch all rows using index access methods.\n",
    "\n",
    "Here's the index from `table7`:"
   ]
  },
  {
   "cell_type": "markdown",
   "metadata": {},
   "source": [
    "### search using ALL and ANY\n",
    "\n",
    "**_All_** allows copy of a table where \"all\" criteria match.\n",
    "\n",
    "This allows you to use custom functions like this:"
   ]
  },
  {
   "cell_type": "markdown",
   "metadata": {},
   "source": [
    "# APPEND"
   ]
  },
  {
   "cell_type": "code",
   "execution_count": 16,
   "metadata": {},
   "outputs": [
    {
     "name": "stdout",
     "output_type": "stream",
     "text": [
      "length before: 45\n",
      "length after + 90\n",
      "length after += 135\n",
      "length after += 135000\n"
     ]
    }
   ],
   "source": [
    "# to append one table to another, use + or += \n",
    "print('length before:', len(t3))  # length before: 45\n",
    "t5 = t3 + t3  \n",
    "print('length after +', len(t5))  # length after + 90\n",
    "t5 += t3 \n",
    "print('length after +=', len(t5))  # length after += 135\n",
    "# if you need a lot of numbers for a test, you can repeat a table using * and *=\n",
    "t5 *= 1_000\n",
    "print('length after +=', len(t5))  # length after += 135000"
   ]
  },
  {
   "cell_type": "code",
   "execution_count": 17,
   "metadata": {},
   "outputs": [
    {
     "name": "stdout",
     "output_type": "stream",
     "text": [
      "+===+=====+=====+=====+=====+=====+=====+=====+=====+=====+\n",
      "| # |  a  |  b  |  c  |  d  |  e  |  f  |  g  |  A  |  B  |\n",
      "|row|mixed|mixed|mixed|mixed|mixed|mixed|mixed|mixed|mixed|\n",
      "+---+-----+-----+-----+-----+-----+-----+-----+-----+-----+\n",
      "|0  |    0|    0|    0|    0|    0|    1|    0|None |None |\n",
      "|1  |    1|    1|    1|    1|    1|    4|    1|None |None |\n",
      "|2  |    2|    2|    2|    2|    2|    7|    8|None |None |\n",
      "|3  |    3|    3|    3|    3|    3|   10|   27|None |None |\n",
      "|4  |    4|    4|    4|    4|    4|   13|   64|None |None |\n",
      "|5  |None |None |None |None |None |None |None |    1|a    |\n",
      "|6  |None |None |None |None |None |None |None |    2|b    |\n",
      "|7  |None |None |None |None |None |None |None |    3|c    |\n",
      "+===+=====+=====+=====+=====+=====+=====+=====+=====+=====+\n"
     ]
    }
   ],
   "source": [
    "# if your are in doubt whether your tables will be the same you can use .stack(other)\n",
    "assert t.columns != t2.columns  # compares list of column names.\n",
    "t6 = t.stack(t2)\n",
    "t6.show()\n"
   ]
  },
  {
   "cell_type": "code",
   "execution_count": 18,
   "metadata": {},
   "outputs": [
    {
     "name": "stdout",
     "output_type": "stream",
     "text": [
      "a not in t2\n",
      "b not in t2\n",
      "c not in t2\n",
      "d not in t2\n",
      "e not in t2\n",
      "f not in t2\n",
      "g not in t2\n"
     ]
    }
   ],
   "source": [
    "# As you can see above, t6['C'] is padded with \"None\" where t2 was missing the columns.\n",
    "\n",
    "# if you need a more detailed view of the columns you can iterate:\n",
    "for name in t.columns:\n",
    "    col_from_t = t[name]\n",
    "    if name in t2.columns:\n",
    "        col_from_t2 = t2[name]\n",
    "        print(name, col_from_t == col_from_t2)\n",
    "    else:\n",
    "        print(name, \"not in t2\")"
   ]
  },
  {
   "cell_type": "code",
   "execution_count": 19,
   "metadata": {
    "pycharm": {
     "name": "#%%\n"
    }
   },
   "outputs": [
    {
     "name": "stdout",
     "output_type": "stream",
     "text": [
      "+===+===+===========+===========+\n",
      "| # | a |     b     |     d     |\n",
      "|row|int|   float   |   float   |\n",
      "+---+---+-----------+-----------+\n",
      "|0  |  6|1.939393939|7.757575758|\n",
      "|1  | 11|62.06060606|248.2424242|\n",
      "|2  | 16|1985.939394|7943.757576|\n",
      "|3  | 21|63550.06061|254200.2424|\n",
      "+===+===+===========+===========+\n"
     ]
    }
   ],
   "source": [
    "# to make a copy of a table, use table.copy()\n",
    "t3_copy = t3.copy()\n",
    "assert t3_copy == t3\n",
    "# you can also perform multi criteria selections using getitem [ ... ]\n",
    "t3_slice = t3['a','b','d', 5:25:5]\n",
    "t3_slice.show()"
   ]
  },
  {
   "cell_type": "code",
   "execution_count": 20,
   "metadata": {},
   "outputs": [
    {
     "name": "stdout",
     "output_type": "stream",
     "text": [
      "+===+===+===========+===========+\n",
      "| # | a |     b     |     d     |\n",
      "|row|int|   float   |   float   |\n",
      "+---+---+-----------+-----------+\n",
      "|0  |  6|1.939393939|7.757575758|\n",
      "|1  | 21|63550.06061|254200.2424|\n",
      "+===+===+===========+===========+\n"
     ]
    }
   ],
   "source": [
    "#deleting items also works the same way:\n",
    "del t3_slice[1:3]  # delete row number 2 & 3 \n",
    "t3_slice.show()"
   ]
  },
  {
   "cell_type": "code",
   "execution_count": 21,
   "metadata": {},
   "outputs": [
    {
     "name": "stdout",
     "output_type": "stream",
     "text": [
      "Empty Table\n"
     ]
    }
   ],
   "source": [
    "# to wipe a table, use .clear:\n",
    "t3_slice.clear()\n",
    "t3_slice.show()"
   ]
  },
  {
   "cell_type": "markdown",
   "metadata": {},
   "source": [
    "# SAVE"
   ]
  },
  {
   "cell_type": "code",
   "execution_count": 22,
   "metadata": {},
   "outputs": [
    {
     "name": "stdout",
     "output_type": "stream",
     "text": [
      "the t5 table had 135000 rows\n"
     ]
    }
   ],
   "source": [
    "# tablite uses HDF5 as the backend storage because it is fast.\n",
    "# this means you can make a table persistent using .save\n",
    "t5.save = True\n",
    "key = t5.key\n",
    "del t5\n",
    "stored_tables = Table.reload_saved_tables()\n",
    "old_t5 = [t for t in stored_tables if t.key == key][0]\n",
    "print(\"the t5 table had\", len(old_t5), \"rows\")  # the t5 table had 135000 rows"
   ]
  },
  {
   "cell_type": "code",
   "execution_count": 23,
   "metadata": {},
   "outputs": [],
   "source": [
    "# to clear out all stored tables, use .reset_storage\n",
    "Table.reset_storage()\n",
    "assert Table.reload_saved_tables() == []\n",
    "# this can be useful when writing tests!"
   ]
  },
  {
   "cell_type": "markdown",
   "metadata": {},
   "source": [
    "If you want to save a table from one session to another use `save=True`. This tells the garbage collector to leave the tablite Table on disk, so you can load it again without changing your code. For example:\n",
    "\n",
    "first time you run `t = Table.import_file(....big.csv)` it may take a minute or two. if you then add `t.save=True` and restart python, the second time you run `t = Table.import_file(....big.csv)` it will take a few milliseconds instead of minutes."
   ]
  },
  {
   "cell_type": "markdown",
   "metadata": {},
   "source": [
    "# FILTER!"
   ]
  },
  {
   "cell_type": "code",
   "execution_count": 24,
   "metadata": {},
   "outputs": [],
   "source": [
    "unfiltered = Table()\n",
    "unfiltered['a'] = [1,2,3,4]\n",
    "unfiltered['b'] = [10,20,30,40]\n"
   ]
  },
  {
   "cell_type": "code",
   "execution_count": 25,
   "metadata": {},
   "outputs": [
    {
     "name": "stderr",
     "output_type": "stream",
     "text": [
      "100%|██████████| 1/1 [00:00<00:00,  2.07tasks/s]\n",
      "100%|██████████| 1/1 [00:00<00:00, 22.30tasks/s]\n"
     ]
    }
   ],
   "source": [
    "true,false = unfiltered.filter(\n",
    "    [\n",
    "        {\"column1\": 'a', \"criteria\":\">=\", 'value2':3}\n",
    "    ], filter_type='all'\n",
    ")\n"
   ]
  },
  {
   "cell_type": "code",
   "execution_count": 26,
   "metadata": {},
   "outputs": [
    {
     "name": "stdout",
     "output_type": "stream",
     "text": [
      "+===+===+===+\n",
      "| # | a | b |\n",
      "|row|int|int|\n",
      "+---+---+---+\n",
      "|0  |  3| 30|\n",
      "|1  |  4| 40|\n",
      "+===+===+===+\n"
     ]
    }
   ],
   "source": [
    "true.show()"
   ]
  },
  {
   "cell_type": "code",
   "execution_count": 27,
   "metadata": {},
   "outputs": [
    {
     "name": "stdout",
     "output_type": "stream",
     "text": [
      "+===+===+===+\n",
      "| # | a | b |\n",
      "|row|int|int|\n",
      "+---+---+---+\n",
      "|0  |  1| 10|\n",
      "|1  |  2| 20|\n",
      "+===+===+===+\n"
     ]
    }
   ],
   "source": [
    "false.show()"
   ]
  },
  {
   "cell_type": "markdown",
   "metadata": {},
   "source": [
    "# Any! All?\n",
    "\n",
    "Any and All are cousins of the filter. They're there so you can use them in the same way as you'd use `any` and `all` in python - as boolean evaluators:"
   ]
  },
  {
   "cell_type": "code",
   "execution_count": 28,
   "metadata": {},
   "outputs": [],
   "source": [
    "ty = Table()\n",
    "ty['a'] = [1,2,3,4]\n",
    "ty['b'] = [10,20,30,40]"
   ]
  },
  {
   "cell_type": "code",
   "execution_count": 29,
   "metadata": {},
   "outputs": [
    {
     "data": {
      "text/plain": [
       "True"
      ]
     },
     "execution_count": 29,
     "metadata": {},
     "output_type": "execute_result"
    }
   ],
   "source": [
    "# typical python\n",
    "any(i > 3 for i in ty['a'])"
   ]
  },
  {
   "cell_type": "code",
   "execution_count": 30,
   "metadata": {},
   "outputs": [
    {
     "data": {
      "text/plain": [
       "True"
      ]
     },
     "execution_count": 30,
     "metadata": {},
     "output_type": "execute_result"
    }
   ],
   "source": [
    "# hereby you can do:\n",
    "any( ty.any(**{'a':lambda x:x>3}).rows )"
   ]
  },
  {
   "cell_type": "code",
   "execution_count": 31,
   "metadata": {},
   "outputs": [
    {
     "data": {
      "text/plain": [
       "True"
      ]
     },
     "execution_count": 31,
     "metadata": {},
     "output_type": "execute_result"
    }
   ],
   "source": [
    "# if you have multiple criteria this also works:\n",
    "all( ty.all(**{'a': lambda x:x>=2, 'b': lambda x:x<=30}).rows )"
   ]
  },
  {
   "cell_type": "markdown",
   "metadata": {},
   "source": [
    "# SORT!"
   ]
  },
  {
   "cell_type": "code",
   "execution_count": 32,
   "metadata": {},
   "outputs": [
    {
     "name": "stdout",
     "output_type": "stream",
     "text": [
      "+===+=====+=====+===+\n",
      "| # |  A  |  B  | C |\n",
      "|row|mixed|mixed|int|\n",
      "+---+-----+-----+---+\n",
      "|0  |    1|   10|  0|\n",
      "|1  |None |100  |  1|\n",
      "|2  |    8|    1|  0|\n",
      "|3  |    3|    1|  1|\n",
      "|4  |    4|    1|  0|\n",
      "|5  |    6|    1|  1|\n",
      "|6  |    5|   10|  0|\n",
      "|7  |    7|   10|  1|\n",
      "|8  |    9|   10|  0|\n",
      "+===+=====+=====+===+\n"
     ]
    }
   ],
   "source": [
    "table = Table()\n",
    "table.add_column('A', data=[ 1, None, 8, 3, 4, 6,  5,  7,  9])\n",
    "table.add_column('B', data=[10,'100', 1, 1, 1, 1, 10, 10, 10])\n",
    "table.add_column('C', data=[ 0,    1, 0, 1, 0, 1,  0,  1,  0])\n",
    "table.show()"
   ]
  },
  {
   "cell_type": "code",
   "execution_count": 33,
   "metadata": {},
   "outputs": [
    {
     "name": "stderr",
     "output_type": "stream",
     "text": [
      "creating sort index: 100%|██████████| 3/3 [00:00<00:00, 250.84it/s]\n",
      "creating sort index: 100%|██████████| 3/3 [00:00<00:00, 273.54it/s]"
     ]
    },
    {
     "name": "stdout",
     "output_type": "stream",
     "text": [
      "+===+=====+=====+===+\n",
      "| # |  A  |  B  | C |\n",
      "|row|mixed|mixed|int|\n",
      "+---+-----+-----+---+\n",
      "|0  |    4|    1|  0|\n",
      "|1  |    8|    1|  0|\n",
      "|2  |    3|    1|  1|\n",
      "|3  |    6|    1|  1|\n",
      "|4  |    1|   10|  0|\n",
      "|5  |    5|   10|  0|\n",
      "|6  |    9|   10|  0|\n",
      "|7  |    7|   10|  1|\n",
      "|8  |None |100  |  1|\n",
      "+===+=====+=====+===+\n"
     ]
    },
    {
     "name": "stderr",
     "output_type": "stream",
     "text": [
      "\n"
     ]
    }
   ],
   "source": [
    "sort_order = {'B': False, 'C': False, 'A': False}\n",
    "assert not table.is_sorted(**sort_order)\n",
    "\n",
    "sorted_table = table.sort(**sort_order)\n",
    "sorted_table.show()"
   ]
  },
  {
   "cell_type": "markdown",
   "metadata": {},
   "source": [
    "Sort is reasonable effective as it uses multiprocessing above a million fields.\n",
    "\n",
    "\n",
    "Hint: You can set this limit in `tablite.config`, like this:"
   ]
  },
  {
   "cell_type": "code",
   "execution_count": 34,
   "metadata": {},
   "outputs": [
    {
     "name": "stdout",
     "output_type": "stream",
     "text": [
      "multiprocessing is used above 1,000,000 fields\n"
     ]
    }
   ],
   "source": [
    "from tablite.config import SINGLE_PROCESSING_LIMIT\n",
    "print(f\"multiprocessing is used above {SINGLE_PROCESSING_LIMIT:,} fields\")"
   ]
  },
  {
   "cell_type": "code",
   "execution_count": 35,
   "metadata": {},
   "outputs": [
    {
     "name": "stdout",
     "output_type": "stream",
     "text": [
      "+=======+=====+=====+===+\n",
      "|   #   |  A  |  B  | C |\n",
      "|  row  |mixed|mixed|int|\n",
      "+-------+-----+-----+---+\n",
      "|0      |    1|   10|  0|\n",
      "|1      |None |  100|  1|\n",
      "|2      |    8|    1|  0|\n",
      "|3      |    3|1    |  1|\n",
      "|4      |    4|    1|  0|\n",
      "|5      |    6|    1|  1|\n",
      "|6      |    5|   10|  0|\n",
      "|...    |...  |...  |...|\n",
      "|333,335|    8|    1|  0|\n",
      "|333,336|    3|1    |  1|\n",
      "|333,337|    4|    1|  0|\n",
      "|333,338|    6|    1|  1|\n",
      "|333,339|    5|   10|  0|\n",
      "|333,340|    7|   10|  1|\n",
      "|333,341|    9|   10|  0|\n",
      "+=======+=====+=====+===+\n"
     ]
    }
   ],
   "source": [
    "import math\n",
    "table = Table()\n",
    "n = math.ceil(1_000_000 / (9*3))\n",
    "table.add_column('A', data=[ 1, None, 8,   3, 4, 6,  5,  7,  9]*n)\n",
    "table.add_column('B', data=[10,  100, 1, \"1\", 1, 1, 10, 10, 10]*n)\n",
    "table.add_column('C', data=[ 0,    1, 0,   1, 0, 1,  0,  1,  0]*n)\n",
    "table.show()"
   ]
  },
  {
   "cell_type": "code",
   "execution_count": 36,
   "metadata": {},
   "outputs": [
    {
     "name": "stderr",
     "output_type": "stream",
     "text": [
      "creating sort index: 100%|██████████| 3/3 [00:00<00:00,  3.09it/s]\n",
      "100%|██████████| 3/3 [00:01<00:00,  1.54tasks/s]\n"
     ]
    },
    {
     "name": "stdout",
     "output_type": "stream",
     "text": [
      "table sorting took  3.29 secs\n",
      "+=======+===+=====+===+\n",
      "|   #   | A |  B  | C |\n",
      "|  row  |int|mixed|int|\n",
      "+-------+---+-----+---+\n",
      "|0      |  4|    1|  0|\n",
      "|1      |  4|    1|  0|\n",
      "|2      |  4|    1|  0|\n",
      "|3      |  4|    1|  0|\n",
      "|4      |  4|    1|  0|\n",
      "|5      |  4|    1|  0|\n",
      "|6      |  4|    1|  0|\n",
      "|...    |...|...  |...|\n",
      "|333,335|  3|1    |  1|\n",
      "|333,336|  3|1    |  1|\n",
      "|333,337|  3|1    |  1|\n",
      "|333,338|  3|1    |  1|\n",
      "|333,339|  3|1    |  1|\n",
      "|333,340|  3|1    |  1|\n",
      "|333,341|  3|1    |  1|\n",
      "+=======+===+=====+===+\n"
     ]
    }
   ],
   "source": [
    "import time as cputime\n",
    "start = cputime.time()\n",
    "sort_order = {'B': False, 'C': False, 'A': False}\n",
    "sorted_table = table.sort(**sort_order)  # sorts 1M values.\n",
    "print(\"table sorting took \", round(cputime.time() - start,3), \"secs\")\n",
    "sorted_table.show()"
   ]
  },
  {
   "cell_type": "markdown",
   "metadata": {},
   "source": [
    "# GROUPBY !"
   ]
  },
  {
   "cell_type": "code",
   "execution_count": 37,
   "metadata": {},
   "outputs": [
    {
     "name": "stdout",
     "output_type": "stream",
     "text": [
      "+=======+=====+=====+===+\n",
      "|   #   |  A  |  B  | C |\n",
      "|  row  |mixed|mixed|int|\n",
      "+-------+-----+-----+---+\n",
      "|0      |    1|   10|  0|\n",
      "|1      |None |  100|  1|\n",
      "|2      |    8|    1|  0|\n",
      "|3      |    3|1    |  1|\n",
      "|4      |    4|    1|  0|\n",
      "|5      |    6|    1|  1|\n",
      "|6      |    5|   10|  0|\n",
      "|...    |...  |...  |...|\n",
      "|333,335|    8|    1|  0|\n",
      "|333,336|    3|1    |  1|\n",
      "|333,337|    4|    1|  0|\n",
      "|333,338|    6|    1|  1|\n",
      "|333,339|    5|   10|  0|\n",
      "|333,340|    7|   10|  1|\n",
      "|333,341|    9|   10|  0|\n",
      "+=======+=====+=====+===+\n"
     ]
    }
   ],
   "source": [
    "table = Table()\n",
    "n = math.ceil(1_000_000 / (9*3))\n",
    "table.add_column('A', data=[ 1, None, 8,   3, 4, 6,  5,  7,  9]*n)\n",
    "table.add_column('B', data=[10,  100, 1, \"1\", 1, 1, 10, 10, 10]*n)\n",
    "table.add_column('C', data=[ 0,    1, 0,   1, 0, 1,  0,  1,  0]*n)\n",
    "table.show()\n"
   ]
  },
  {
   "cell_type": "code",
   "execution_count": 38,
   "metadata": {},
   "outputs": [
    {
     "name": "stdout",
     "output_type": "stream",
     "text": [
      "+===+===+=====+========+\n",
      "| # | C |  B  |Count(A)|\n",
      "|row|int|mixed|  int   |\n",
      "+---+---+-----+--------+\n",
      "|0  |  0|   10|  111114|\n",
      "|1  |  1|  100|   37038|\n",
      "|2  |  0|    1|   74076|\n",
      "|3  |  1|1    |   37038|\n",
      "|4  |  1|    1|   37038|\n",
      "|5  |  1|   10|   37038|\n",
      "+===+===+=====+========+\n"
     ]
    }
   ],
   "source": [
    "from tablite import GroupBy as gb\n",
    "grpby = table.groupby(keys=['C', 'B'], functions=[('A', gb.count)])\n",
    "grpby.show()"
   ]
  },
  {
   "cell_type": "markdown",
   "metadata": {},
   "source": [
    "Here is the list of groupby functions:\n",
    "\n",
    "```\n",
    "class GroupBy(object):    \n",
    "    max = Max  # shortcuts to avoid having to type a long list of imports.\n",
    "    min = Min\n",
    "    sum = Sum\n",
    "    product = Product\n",
    "    first = First\n",
    "    last = Last\n",
    "    count = Count\n",
    "    count_unique = CountUnique\n",
    "    avg = Average\n",
    "    stdev = StandardDeviation\n",
    "    median = Median\n",
    "    mode = Mode\n",
    "```"
   ]
  },
  {
   "cell_type": "markdown",
   "metadata": {},
   "source": [
    "### Did I say pivot table? Yes.\n",
    "\n",
    "\n",
    "**Pivot Table** is included in the groupby functionality - so yes - you can pivot the groupby on any column that is used for grouping. Here's a simple example:\n"
   ]
  },
  {
   "cell_type": "code",
   "execution_count": 39,
   "metadata": {},
   "outputs": [
    {
     "name": "stdout",
     "output_type": "stream",
     "text": [
      "+===+===+===+===+\n",
      "| # | A | B | C |\n",
      "|row|int|int|int|\n",
      "+---+---+---+---+\n",
      "|0  |  1|  1|  6|\n",
      "|1  |  1|  2|  5|\n",
      "|2  |  2|  3|  4|\n",
      "|3  |  2|  4|  3|\n",
      "|4  |  3|  5|  2|\n",
      "|5  |  3|  6|  1|\n",
      "|6  |  1|  1|  6|\n",
      "|7  |  1|  2|  5|\n",
      "|8  |  2|  3|  4|\n",
      "|9  |  2|  4|  3|\n",
      "|10 |  3|  5|  2|\n",
      "|11 |  3|  6|  1|\n",
      "+===+===+===+===+\n"
     ]
    }
   ],
   "source": [
    "t = Table()\n",
    "t.add_column('A', data=[1, 1, 2, 2, 3, 3] * 2)\n",
    "t.add_column('B', data=[1, 2, 3, 4, 5, 6] * 2)\n",
    "t.add_column('C', data=[6, 5, 4, 3, 2, 1] * 2)\n",
    "t.show()"
   ]
  },
  {
   "cell_type": "code",
   "execution_count": 40,
   "metadata": {},
   "outputs": [
    {
     "name": "stdout",
     "output_type": "stream",
     "text": [
      "+===+===+==========+============+==========+============+==========+============+\n",
      "| # | C |Sum(B,A=1)|Count(B,A=1)|Sum(B,A=2)|Count(B,A=2)|Sum(B,A=3)|Count(B,A=3)|\n",
      "|row|int|  mixed   |   mixed    |  mixed   |   mixed    |  mixed   |   mixed    |\n",
      "+---+---+----------+------------+----------+------------+----------+------------+\n",
      "|0  |  6|         2|           2|None      |None        |None      |None        |\n",
      "|1  |  5|         4|           2|None      |None        |None      |None        |\n",
      "|2  |  4|None      |None        |         6|           2|None      |None        |\n",
      "|3  |  3|None      |None        |         8|           2|None      |None        |\n",
      "|4  |  2|None      |None        |None      |None        |        10|           2|\n",
      "|5  |  1|None      |None        |None      |None        |        12|           2|\n",
      "+===+===+==========+============+==========+============+==========+============+\n"
     ]
    }
   ],
   "source": [
    "t2 = t.pivot(rows=['C'], columns=['A'], functions=[('B', gb.sum), ('B', gb.count)], values_as_rows=False)\n",
    "t2.show()"
   ]
  },
  {
   "cell_type": "markdown",
   "metadata": {},
   "source": [
    "# JOIN!"
   ]
  },
  {
   "cell_type": "code",
   "execution_count": 41,
   "metadata": {},
   "outputs": [],
   "source": [
    "numbers = Table()\n",
    "numbers.add_column('number', data=[      1,      2,       3,       4,   None])\n",
    "numbers.add_column('colour', data=['black', 'blue', 'white', 'white', 'blue'])\n",
    "\n",
    "letters = Table()\n",
    "letters.add_column('letter', data=[  'a',     'b',      'c',     'd',   None])\n",
    "letters.add_column('color', data=['blue', 'white', 'orange', 'white', 'blue'])\n"
   ]
  },
  {
   "cell_type": "code",
   "execution_count": 42,
   "metadata": {},
   "outputs": [
    {
     "name": "stdout",
     "output_type": "stream",
     "text": [
      "+===+======+======+\n",
      "| # |number|letter|\n",
      "|row|mixed |mixed |\n",
      "+---+------+------+\n",
      "|0  |     1|None  |\n",
      "|1  |     2|a     |\n",
      "|2  |     2|None  |\n",
      "|3  |None  |a     |\n",
      "|4  |None  |None  |\n",
      "|5  |     3|b     |\n",
      "|6  |     3|d     |\n",
      "|7  |     4|b     |\n",
      "|8  |     4|d     |\n",
      "+===+======+======+\n"
     ]
    }
   ],
   "source": [
    "# left join\n",
    "# SELECT number, letter FROM numbers LEFT JOIN letters ON numbers.colour == letters.color\n",
    "left_join = numbers.left_join(letters, left_keys=['colour'], right_keys=['color'], left_columns=['number'], right_columns=['letter'])\n",
    "left_join.show()"
   ]
  },
  {
   "cell_type": "code",
   "execution_count": 43,
   "metadata": {},
   "outputs": [
    {
     "name": "stdout",
     "output_type": "stream",
     "text": [
      "+===+======+======+\n",
      "| # |number|letter|\n",
      "|row|mixed |mixed |\n",
      "+---+------+------+\n",
      "|0  |     2|a     |\n",
      "|1  |     2|None  |\n",
      "|2  |None  |a     |\n",
      "|3  |None  |None  |\n",
      "|4  |     3|b     |\n",
      "|5  |     3|d     |\n",
      "|6  |     4|b     |\n",
      "|7  |     4|d     |\n",
      "+===+======+======+\n"
     ]
    }
   ],
   "source": [
    "# inner join\n",
    "# SELECT number, letter FROM numbers JOIN letters ON numbers.colour == letters.color\n",
    "inner_join = numbers.inner_join(letters, left_keys=['colour'], right_keys=['color'], left_columns=['number'], right_columns=['letter'])\n",
    "inner_join.show()"
   ]
  },
  {
   "cell_type": "code",
   "execution_count": 44,
   "metadata": {},
   "outputs": [
    {
     "name": "stdout",
     "output_type": "stream",
     "text": [
      "+===+======+======+\n",
      "| # |number|letter|\n",
      "|row|mixed |mixed |\n",
      "+---+------+------+\n",
      "|0  |     1|None  |\n",
      "|1  |     2|a     |\n",
      "|2  |     2|None  |\n",
      "|3  |None  |a     |\n",
      "|4  |None  |None  |\n",
      "|5  |     3|b     |\n",
      "|6  |     3|d     |\n",
      "|7  |     4|b     |\n",
      "|8  |     4|d     |\n",
      "|9  |None  |c     |\n",
      "+===+======+======+\n"
     ]
    }
   ],
   "source": [
    " # outer join\n",
    "# SELECT number, letter FROM numbers OUTER JOIN letters ON numbers.colour == letters.color\n",
    "outer_join = numbers.outer_join(letters, left_keys=['colour'], right_keys=['color'], left_columns=['number'], right_columns=['letter'])\n",
    "outer_join.show()"
   ]
  },
  {
   "cell_type": "markdown",
   "metadata": {},
   "source": [
    "**Q: But ...I think there's a bug in the join...**  \n",
    "**A: Venn diagrams do not explain joins**.\n",
    "> A Venn diagram is a widely-used diagram style that shows the logical relation between sets, popularised by John Venn in the 1880s. The diagrams are used to teach elementary set theory, and to illustrate simple set relationships<br>[source: en.wikipedia.org](https://en.wikipedia.org/wiki/Venn_diagram)\n",
    "\n",
    "Joins operate over rows and ***when*** there are **duplicate rows**, these will be replicated in the output.\n",
    "Many beginners are surprised by this, because they didn't read the SQL standard.\n",
    "\n",
    "**Q: So what do I do?**  \n",
    "**A**: If you want to get rid of duplicates using tablite, use the `index` functionality\n",
    "across all columns and pick the first row from each index. Here's the recipe that starts with plenty of duplicates:"
   ]
  },
  {
   "cell_type": "code",
   "execution_count": 45,
   "metadata": {},
   "outputs": [
    {
     "name": "stdout",
     "output_type": "stream",
     "text": [
      "+===+===+===+\n",
      "| # | A | B |\n",
      "|row|int|int|\n",
      "+---+---+---+\n",
      "|0  |  1|  1|\n",
      "|1  |  1|  1|\n",
      "|2  |  1|  4|\n",
      "|3  |  2|  2|\n",
      "|4  |  2|  2|\n",
      "|5  |  2|  5|\n",
      "|6  |  3|  3|\n",
      "|7  |  3|  3|\n",
      "|8  |  3|  6|\n",
      "+===+===+===+\n"
     ]
    }
   ],
   "source": [
    "old_table = Table()\n",
    "old_table.add_column('A', data=[1,1,1,2,2,2,3,3,3])\n",
    "old_table.add_column('B', data=[1,1,4,2,2,5,3,3,6])\n",
    "old_table.show()"
   ]
  },
  {
   "cell_type": "code",
   "execution_count": 46,
   "metadata": {},
   "outputs": [
    {
     "name": "stdout",
     "output_type": "stream",
     "text": [
      "+===+===+===+\n",
      "| # | A | B |\n",
      "|row|int|int|\n",
      "+---+---+---+\n",
      "|0  |  1|  1|\n",
      "|1  |  1|  4|\n",
      "|2  |  2|  2|\n",
      "|3  |  2|  5|\n",
      "|4  |  3|  3|\n",
      "|5  |  3|  6|\n",
      "+===+===+===+\n"
     ]
    }
   ],
   "source": [
    "# CREATE TABLE OF UNIQUE ENTRIES (a.k.a. DEDUPLICATE)\n",
    "#\n",
    "new_table = Table()\n",
    "new_table.add_columns(*old_table.columns)\n",
    "\n",
    "indices = old_table.index(*old_table.columns)\n",
    "# print(indices) # print the indices and you'll see why it works.\n",
    "for key in indices:\n",
    "    new_table.add_rows(key)\n",
    "\n",
    "new_table.show()  # <-- duplicates have been removed."
   ]
  },
  {
   "cell_type": "markdown",
   "metadata": {},
   "source": [
    "You can also use groupby; We'll get to that in a minute."
   ]
  },
  {
   "cell_type": "markdown",
   "metadata": {},
   "source": [
    "# LOOKUP!"
   ]
  },
  {
   "cell_type": "markdown",
   "metadata": {
    "pycharm": {
     "name": "#%% md\n"
    }
   },
   "source": [
    "Lookup is a special case of a search loop: Say for example you are planning a concert and want to make sure that your friends can make it home using public transport: You would have to find the first departure after the concert ends towards their home. A join would only give you a direct match on the time.\n",
    "\n",
    "Lookup allows you \"to iterate through a list of data and find the first match given a set of criteria.\"\n",
    "\n",
    "Here's an example:\n",
    "\n",
    "First we have our list of friends and their stops."
   ]
  },
  {
   "cell_type": "code",
   "execution_count": 47,
   "metadata": {},
   "outputs": [
    {
     "name": "stdout",
     "output_type": "stream",
     "text": [
      "+===+=======+=================+\n",
      "| # |  name |       stop      |\n",
      "|row|  str  |       str       |\n",
      "+---+-------+-----------------+\n",
      "|0  |Alice  |Downtown-1       |\n",
      "|1  |Betty  |Downtown-2       |\n",
      "|2  |Charlie|Hillside View    |\n",
      "|3  |Dorethy|Hillside Crescent|\n",
      "|4  |Edward |Downtown-2       |\n",
      "|5  |Fred   |Chicago          |\n",
      "+===+=======+=================+\n"
     ]
    }
   ],
   "source": [
    "friends = Table()\n",
    "friends.add_column(\"name\", data=['Alice', 'Betty', 'Charlie', 'Dorethy', 'Edward', 'Fred'])\n",
    "friends.add_column(\"stop\", data=['Downtown-1', 'Downtown-2', 'Hillside View', 'Hillside Crescent', 'Downtown-2', 'Chicago'])\n",
    "friends.show()\n"
   ]
  },
  {
   "cell_type": "markdown",
   "metadata": {},
   "source": [
    "Next we need a list of bus routes and their time and stops. I don't have that, so I'm making one up:"
   ]
  },
  {
   "cell_type": "code",
   "execution_count": 48,
   "metadata": {},
   "outputs": [],
   "source": [
    "\n",
    "import random\n",
    "random.seed(11)\n",
    "table_size = 40\n",
    "\n",
    "times = [DataTypes.time(random.randint(21, 23), random.randint(0, 59)) for i in range(table_size)]\n",
    "stops = ['Stadium', 'Hillside', 'Hillside View', 'Hillside Crescent', 'Downtown-1', 'Downtown-2',\n",
    "            'Central station'] * 2 + [f'Random Road-{i}' for i in range(table_size)]\n",
    "route = [random.choice([1, 2, 3]) for i in stops]\n"
   ]
  },
  {
   "cell_type": "code",
   "execution_count": 49,
   "metadata": {},
   "outputs": [
    {
     "name": "stderr",
     "output_type": "stream",
     "text": [
      "creating sort index: 100%|██████████| 1/1 [00:00<00:00, 250.59it/s]"
     ]
    },
    {
     "name": "stdout",
     "output_type": "stream",
     "text": [
      "Departures from Concert Hall towards ...\n"
     ]
    },
    {
     "name": "stderr",
     "output_type": "stream",
     "text": [
      "\n"
     ]
    },
    {
     "name": "stdout",
     "output_type": "stream",
     "text": [
      "+===+========+=================+=====+\n",
      "| # |  time  |       stop      |route|\n",
      "|row|  time  |       str       | int |\n",
      "+---+--------+-----------------+-----+\n",
      "|0  |22:55:00|Stadium          |    2|\n",
      "|1  |23:54:00|Hillside         |    2|\n",
      "|2  |22:28:00|Hillside View    |    1|\n",
      "|3  |23:54:00|Hillside Crescent|    1|\n",
      "|4  |23:12:00|Downtown-1       |    3|\n",
      "|5  |21:51:00|Downtown-2       |    1|\n",
      "|6  |23:30:00|Central station  |    1|\n",
      "|7  |23:39:00|Stadium          |    1|\n",
      "|8  |21:06:00|Hillside         |    1|\n",
      "|9  |22:19:00|Hillside View    |    2|\n",
      "+===+========+=================+=====+\n"
     ]
    }
   ],
   "source": [
    "\n",
    "bustable = Table()\n",
    "bustable.add_column(\"time\", data=times)\n",
    "bustable.add_column(\"stop\", data=stops[:table_size])\n",
    "bustable.add_column(\"route\", data=route[:table_size])\n",
    "\n",
    "bustable.sort(**{'time': False})\n",
    "\n",
    "print(\"Departures from Concert Hall towards ...\")\n",
    "bustable.show(slice(0,10))\n"
   ]
  },
  {
   "cell_type": "markdown",
   "metadata": {},
   "source": [
    "Let's say the concerts ends at 21:00 and it takes a 10 minutes to get to the bus-stop. Earliest departure must then be 21:10 - goodbye hugs included."
   ]
  },
  {
   "cell_type": "code",
   "execution_count": 50,
   "metadata": {},
   "outputs": [
    {
     "name": "stderr",
     "output_type": "stream",
     "text": [
      "100%|██████████| 6/6 [00:00<00:00, 286.67it/s]\n",
      "creating sort index: 100%|██████████| 2/2 [00:00<00:00, 250.95it/s]\n"
     ]
    },
    {
     "name": "stdout",
     "output_type": "stream",
     "text": [
      "+===+=======+=================+========+=================+=====+\n",
      "| # |  name |       stop      |  time  |      stop_1     |route|\n",
      "|row|  str  |       str       | mixed  |      mixed      |mixed|\n",
      "+---+-------+-----------------+--------+-----------------+-----+\n",
      "|0  |Dorethy|Hillside Crescent|23:54:00|Hillside Crescent|    1|\n",
      "|1  |Alice  |Downtown-1       |23:12:00|Downtown-1       |    3|\n",
      "|2  |Charlie|Hillside View    |22:28:00|Hillside View    |    1|\n",
      "|3  |Betty  |Downtown-2       |21:51:00|Downtown-2       |    1|\n",
      "|4  |Edward |Downtown-2       |21:51:00|Downtown-2       |    1|\n",
      "|5  |Fred   |Chicago          |None    |None             |None |\n",
      "+===+=======+=================+========+=================+=====+\n"
     ]
    }
   ],
   "source": [
    "lookup_1 = friends.lookup(bustable, (DataTypes.time(21, 10), \"<=\", 'time'), ('stop', \"==\", 'stop'))\n",
    "lookup1_sorted = lookup_1.sort(**{'time': True, 'name':False, \"sort_mode\":'unix'})\n",
    "lookup1_sorted.show()"
   ]
  },
  {
   "cell_type": "markdown",
   "metadata": {},
   "source": [
    "Lookup's ability to custom criteria is thereby far more versatile than SQL joins. \n",
    "\n",
    "But _with great power comes great responsibility_."
   ]
  },
  {
   "cell_type": "markdown",
   "metadata": {
    "pycharm": {
     "name": "#%% md\n"
    }
   },
   "source": [
    "### How do I add data again?"
   ]
  },
  {
   "cell_type": "code",
   "execution_count": 51,
   "metadata": {
    "pycharm": {
     "name": "#%%\n"
    }
   },
   "outputs": [],
   "source": [
    "from tablite import Table\n",
    "t = Table()  # create table\n",
    "t.add_columns('row','A','B','C')  # add columns"
   ]
  },
  {
   "cell_type": "markdown",
   "metadata": {
    "pycharm": {
     "name": "#%% md\n"
    }
   },
   "source": [
    "The following examples are all valid and append the row (1,2,3) to the table."
   ]
  },
  {
   "cell_type": "code",
   "execution_count": 52,
   "metadata": {
    "pycharm": {
     "name": "#%%\n"
    }
   },
   "outputs": [],
   "source": [
    "t.add_rows(1, 1, 2, 3)  # individual values\n",
    "t.add_rows([2, 1, 2, 3])  # list of values\n",
    "t.add_rows((3, 1, 2, 3))  # tuple of values\n",
    "t.add_rows(*(4, 1, 2, 3))  # unpacked tuple\n",
    "t.add_rows(row=5, A=1, B=2, C=3)   # keyword - args\n",
    "t.add_rows(**{'row': 6, 'A': 1, 'B': 2, 'C': 3})  # dict / json."
   ]
  },
  {
   "cell_type": "markdown",
   "metadata": {
    "pycharm": {
     "name": "#%% md\n"
    }
   },
   "source": [
    "The following examples add two rows to the table"
   ]
  },
  {
   "cell_type": "code",
   "execution_count": 53,
   "metadata": {
    "pycharm": {
     "name": "#%%\n"
    }
   },
   "outputs": [],
   "source": [
    "t.add_rows((7, 1, 2, 3), (8, 4, 5, 6))  # two (or more) tuples.\n",
    "t.add_rows([9, 1, 2, 3], [10, 4, 5, 6])  # two or more lists\n",
    "t.add_rows({'row': 11, 'A': 1, 'B': 2, 'C': 3},\n",
    "          {'row': 12, 'A': 4, 'B': 5, 'C': 6})  # two (or more) dicts as args.\n",
    "t.add_rows(*[{'row': 13, 'A': 1, 'B': 2, 'C': 3},\n",
    "            {'row': 14, 'A': 1, 'B': 2, 'C': 3}])  # list of dicts."
   ]
  },
  {
   "cell_type": "code",
   "execution_count": 54,
   "metadata": {},
   "outputs": [
    {
     "name": "stdout",
     "output_type": "stream",
     "text": [
      "+===+===+===+===+===+\n",
      "| # |row| A | B | C |\n",
      "|row|int|int|int|int|\n",
      "+---+---+---+---+---+\n",
      "|0  |  1|  1|  2|  3|\n",
      "|1  |  2|  1|  2|  3|\n",
      "|2  |  3|  1|  2|  3|\n",
      "|3  |  4|  1|  2|  3|\n",
      "|4  |  5|  1|  2|  3|\n",
      "|5  |  6|  1|  2|  3|\n",
      "|6  |  7|  1|  2|  3|\n",
      "|7  |  8|  4|  5|  6|\n",
      "|8  |  9|  1|  2|  3|\n",
      "|9  | 10|  4|  5|  6|\n",
      "|10 | 11|  1|  2|  3|\n",
      "|11 | 12|  4|  5|  6|\n",
      "|12 | 13|  1|  2|  3|\n",
      "|13 | 14|  1|  2|  3|\n",
      "+===+===+===+===+===+\n"
     ]
    }
   ],
   "source": [
    "t.show()"
   ]
  },
  {
   "cell_type": "markdown",
   "metadata": {
    "pycharm": {
     "name": "#%% md\n"
    }
   },
   "source": [
    "As the row incremented from `1` in the first of these examples, and finished with\n",
    "`row: 14`, you can now see the whole table above"
   ]
  },
  {
   "cell_type": "markdown",
   "metadata": {
    "pycharm": {
     "name": "#%% md\n"
    }
   },
   "source": [
    "### Okay, great. How do I load data?\n",
    "\n",
    "Easy. Use `file_reader`. Here's an example:"
   ]
  },
  {
   "cell_type": "code",
   "execution_count": 55,
   "metadata": {
    "pycharm": {
     "name": "#%%\n"
    }
   },
   "outputs": [
    {
     "name": "stderr",
     "output_type": "stream",
     "text": [
      "splitting book1.csv for multiprocessing: 100%|██████████| 46/46 [00:00<00:00, 15401.77lines/s]\n",
      "100%|██████████| 1/1 [00:00<00:00,  1.92tasks/s]\n"
     ]
    },
    {
     "name": "stdout",
     "output_type": "stream",
     "text": [
      "+===+===+===============+===============+===============+===============+================+\n",
      "| # | a |       b       |       c       |       d       |       e       |       f        |\n",
      "|row|int|     float     |     float     |     float     |     float     |     float      |\n",
      "+---+---+---------------+---------------+---------------+---------------+----------------+\n",
      "|0  |  1|    0.060606061|    0.090909091|    0.121212121|    0.151515152|     0.181818182|\n",
      "|1  |  2|    0.121212121|    0.242424242|    0.484848485|     0.96969697|     1.939393939|\n",
      "|2  |  3|    0.242424242|    0.484848485|     0.96969697|    1.939393939|     3.878787879|\n",
      "|3  |  4|    0.484848485|     0.96969697|    1.939393939|    3.878787879|     7.757575758|\n",
      "|4  |  5|     0.96969697|    1.939393939|    3.878787879|    7.757575758|     15.51515152|\n",
      "|5  |  6|    1.939393939|    3.878787879|    7.757575758|    15.51515152|     31.03030303|\n",
      "|6  |  7|    3.878787879|    7.757575758|    15.51515152|    31.03030303|     62.06060606|\n",
      "|...|...|...            |...            |...            |...            |...             |\n",
      "|38 | 39|  16659267088.0|  33318534175.0|  66637068350.0| 133274000000.0|  266548000000.0|\n",
      "|39 | 40|  33318534175.0|  66637068350.0| 133274000000.0| 266548000000.0|  533097000000.0|\n",
      "|40 | 41|  66637068350.0| 133274000000.0| 266548000000.0| 533097000000.0| 1066190000000.0|\n",
      "|41 | 42| 133274000000.0| 266548000000.0| 533097000000.0|1066190000000.0| 2132390000000.0|\n",
      "|42 | 43| 266548000000.0| 533097000000.0|1066190000000.0|2132390000000.0| 4264770000000.0|\n",
      "|43 | 44| 533097000000.0|1066190000000.0|2132390000000.0|4264770000000.0| 8529540000000.0|\n",
      "|44 | 45|1066190000000.0|2132390000000.0|4264770000000.0|8529540000000.0|17059100000000.0|\n",
      "+===+===+===============+===============+===============+===============+================+\n"
     ]
    }
   ],
   "source": [
    "from pathlib import Path\n",
    "path = Path('tests/data/book1.csv')\n",
    "sample = get_headers(path)\n",
    "delimiter = sample.pop('delimiter')\n",
    "headers = sample[path.name][0]  # first row has headers\n",
    "tx = Table.import_file(path, import_as=path.suffix, columns={h:'f' for h in headers}, delimiter=delimiter)\n",
    "tx.show()\n"
   ]
  },
  {
   "cell_type": "markdown",
   "metadata": {
    "pycharm": {
     "name": "#%% md\n"
    }
   },
   "source": [
    "Note that you can also add start, limit and chunk_size to the file reader. Here's an example:"
   ]
  },
  {
   "cell_type": "code",
   "execution_count": 56,
   "metadata": {
    "pycharm": {
     "name": "#%%\n"
    }
   },
   "outputs": [
    {
     "name": "stderr",
     "output_type": "stream",
     "text": [
      "splitting book1.csv for multiprocessing:  35%|███▍      | 16/46 [00:00<00:00, 5350.30lines/s]\n",
      "100%|██████████| 1/1 [00:00<00:00,  1.86tasks/s]\n"
     ]
    },
    {
     "name": "stdout",
     "output_type": "stream",
     "text": [
      "+===+===+===========+===========+===========+===========+===========+\n",
      "| # | a |     b     |     c     |     d     |     e     |     f     |\n",
      "|row|int|   float   |   float   |   float   |   float   |   float   |\n",
      "+---+---+-----------+-----------+-----------+-----------+-----------+\n",
      "|0  |  3|0.242424242|0.484848485| 0.96969697|1.939393939|3.878787879|\n",
      "|1  |  4|0.484848485| 0.96969697|1.939393939|3.878787879|7.757575758|\n",
      "|2  |  5| 0.96969697|1.939393939|3.878787879|7.757575758|15.51515152|\n",
      "|3  |  6|1.939393939|3.878787879|7.757575758|15.51515152|31.03030303|\n",
      "|4  |  7|3.878787879|7.757575758|15.51515152|31.03030303|62.06060606|\n",
      "|5  |  8|7.757575758|15.51515152|31.03030303|62.06060606|124.1212121|\n",
      "|6  |  9|15.51515152|31.03030303|62.06060606|124.1212121|248.2424242|\n",
      "|7  | 10|31.03030303|62.06060606|124.1212121|248.2424242|496.4848485|\n",
      "|8  | 11|62.06060606|124.1212121|248.2424242|496.4848485| 992.969697|\n",
      "|9  | 12|124.1212121|248.2424242|496.4848485| 992.969697|1985.939394|\n",
      "|10 | 13|248.2424242|496.4848485| 992.969697|1985.939394|3971.878788|\n",
      "|11 | 14|496.4848485| 992.969697|1985.939394|3971.878788|7943.757576|\n",
      "|12 | 15| 992.969697|1985.939394|3971.878788|7943.757576|15887.51515|\n",
      "|13 | 16|1985.939394|3971.878788|7943.757576|15887.51515| 31775.0303|\n",
      "|14 | 17|3971.878788|7943.757576|15887.51515| 31775.0303|63550.06061|\n",
      "+===+===+===========+===========+===========+===========+===========+\n"
     ]
    }
   ],
   "source": [
    "path = Path('tests/data/book1.csv')\n",
    "assert path.exists()\n",
    "tx2 = Table.import_file(path, import_as=path.suffix, columns={h:'f' for h in headers}, delimiter=delimiter, start=2, limit=15)\n",
    "tx2.show()"
   ]
  },
  {
   "cell_type": "markdown",
   "metadata": {
    "pycharm": {
     "name": "#%% md\n"
    }
   },
   "source": [
    "**How good is the file_reader?**\n",
    "\n",
    "I've included all formats in the test suite that are publicly available from the [Alan Turing institute](https://github.com/alan-turing-institute), [dateutils](https://github.com/dateutil/dateutil)) and Python's [csv reader](https://github.com/python/cpython/blob/master/Lib/csv.py).\n",
    "\n",
    "What about `MM-DD-YYYY` formats? Some users from the US ask why the csv reader doesn't read the month-day-year format.\n",
    "\n",
    "The answer is simple: It's not an [iso8601](https://en.wikipedia.org/wiki/ISO_8601) format. The US month-day-year format is a **locale** that may be used a lot in the US, but it isn't an international standard. \n",
    "\n",
    "If you need to work with `MM-DD-YYYY` you will find that the file_reader will import the values as text (str). You can then reformat it with a custom function like:"
   ]
  },
  {
   "cell_type": "code",
   "execution_count": 57,
   "metadata": {
    "pycharm": {
     "name": "#%%\n"
    }
   },
   "outputs": [
    {
     "data": {
      "text/plain": [
       "datetime.date(1998, 3, 21)"
      ]
     },
     "execution_count": 57,
     "metadata": {},
     "output_type": "execute_result"
    }
   ],
   "source": [
    "s = \"03-21-1998\"\n",
    "from datetime import date\n",
    "f = lambda s: date(int(s[-4:]), int(s[:2]), int(s[3:5]))\n",
    "f(s)"
   ]
  },
  {
   "cell_type": "markdown",
   "metadata": {
    "pycharm": {
     "name": "#%% md\n"
    }
   },
   "source": [
    "### Sweet. What formats are supported? Can I add my own file reader?\n",
    "\n",
    "Yes! This is very good for special log files or custom json formats.\n",
    "Here's how you do it:\n",
    "\n",
    "(1) Go to all existing readers in the `tablite.core` and find the closest match."
   ]
  },
  {
   "cell_type": "code",
   "execution_count": 58,
   "metadata": {
    "pycharm": {
     "name": "#%%\n"
    }
   },
   "outputs": [
    {
     "name": "stdout",
     "output_type": "stream",
     "text": [
      "('fods', <function excel_reader at 0x000001703A3013F0>)\n",
      "('json', <function excel_reader at 0x000001703A3013F0>)\n",
      "('html', <function excel_reader at 0x000001703A3013F0>)\n",
      "('simple', <function excel_reader at 0x000001703A3013F0>)\n",
      "('rst', <function excel_reader at 0x000001703A3013F0>)\n",
      "('mediawiki', <function excel_reader at 0x000001703A3013F0>)\n",
      "('xlsx', <function excel_reader at 0x000001703A3013F0>)\n",
      "('xls', <function excel_reader at 0x000001703A3013F0>)\n",
      "('xlsm', <function excel_reader at 0x000001703A3013F0>)\n",
      "('csv', <function text_reader at 0x000001703A301510>)\n",
      "('tsv', <function text_reader at 0x000001703A301510>)\n",
      "('txt', <function text_reader at 0x000001703A301510>)\n",
      "('ods', <function ods_reader at 0x000001703A301480>)\n"
     ]
    }
   ],
   "source": [
    "from tablite.core import file_readers\n",
    "for kv in file_readers.items():\n",
    "    print(kv)"
   ]
  },
  {
   "cell_type": "markdown",
   "metadata": {
    "pycharm": {
     "name": "#%% md\n"
    }
   },
   "source": [
    "(2) define your new file reader"
   ]
  },
  {
   "cell_type": "code",
   "execution_count": 59,
   "metadata": {
    "pycharm": {
     "name": "#%%\n"
    }
   },
   "outputs": [],
   "source": [
    "def my_magic_reader(path, **kwargs):   # define your new file reader.\n",
    "    print(\"do magic with {path}\")\n",
    "    return"
   ]
  },
  {
   "cell_type": "markdown",
   "metadata": {
    "pycharm": {
     "name": "#%% md\n"
    }
   },
   "source": [
    "(3) add it to the list of readers."
   ]
  },
  {
   "cell_type": "code",
   "execution_count": 60,
   "metadata": {
    "pycharm": {
     "name": "#%%\n"
    }
   },
   "outputs": [],
   "source": [
    "file_readers['my_special_format'] = my_magic_reader"
   ]
  },
  {
   "cell_type": "markdown",
   "metadata": {
    "pycharm": {
     "name": "#%% md\n"
    }
   },
   "source": [
    "The `file_readers` are all in [tablite.core](https://github.com/root-11/tablite/blob/master/tablite/core.py) so if you intend to extend the readers, I recommend that you start here."
   ]
  },
  {
   "cell_type": "markdown",
   "metadata": {
    "pycharm": {
     "name": "#%% md\n"
    }
   },
   "source": [
    "### Cool. Does it play well with plotting packages?\n",
    "\n",
    "Yes. Here's an example you can copy and paste:"
   ]
  },
  {
   "cell_type": "code",
   "execution_count": 61,
   "metadata": {
    "pycharm": {
     "name": "#%%\n"
    }
   },
   "outputs": [
    {
     "name": "stderr",
     "output_type": "stream",
     "text": [
      "creating sort index: 100%|██████████| 1/1 [00:00<00:00, 250.65it/s]"
     ]
    },
    {
     "name": "stdout",
     "output_type": "stream",
     "text": [
      "+===+===+===+\n",
      "| # | a | b |\n",
      "|row|int|int|\n",
      "+---+---+---+\n",
      "|0  |  1| 10|\n",
      "|1  |  2|100|\n",
      "|2  |  3|  4|\n",
      "|3  |  4| 16|\n",
      "|4  |  5| 10|\n",
      "|5  |  6| -1|\n",
      "|6  |  7| 10|\n",
      "|7  |  8|  3|\n",
      "|8  |  9| 10|\n",
      "+===+===+===+\n"
     ]
    },
    {
     "name": "stderr",
     "output_type": "stream",
     "text": [
      "\n"
     ]
    }
   ],
   "source": [
    "from tablite import Table\n",
    "\n",
    "t = Table()\n",
    "t.add_column('a', data=[1, 2, 8, 3, 4, 6, 5, 7, 9])\n",
    "t.add_column('b', data=[10, 100, 3, 4, 16, -1, 10, 10, 10])\n",
    "t = t.sort(a=False)\n",
    "t.show()"
   ]
  },
  {
   "cell_type": "code",
   "execution_count": 62,
   "metadata": {},
   "outputs": [
    {
     "data": {
      "image/png": "[encoded data removed]",
      "text/plain": [
       "<Figure size 432x288 with 1 Axes>"
      ]
     },
     "metadata": {
      "needs_background": "light"
     },
     "output_type": "display_data"
    }
   ],
   "source": [
    "import matplotlib.pyplot as plt\n",
    "plt.plot(t['a'], t['b'])\n",
    "plt.ylabel('Hello Figure')\n",
    "plt.show()"
   ]
  },
  {
   "cell_type": "markdown",
   "metadata": {
    "pycharm": {
     "name": "#%% md\n"
    }
   },
   "source": [
    "### But what do I do if I'm about to run out of memory?\n",
    "\n",
    "You wont. Every tablite table is backed by HDF5 on disk. The memory footprint of a table is only the metadata required to know the relationships between variable names and the datastructures.\n",
    "\n",
    "Let's do a comparison:"
   ]
  },
  {
   "cell_type": "code",
   "execution_count": 63,
   "metadata": {},
   "outputs": [],
   "source": [
    "# Let's monitor the memory and record the observations into a table!\n",
    "import psutil, os, gc\n",
    "from time import process_time, sleep\n",
    "process = psutil.Process(os.getpid())\n",
    "baseline_memory = process.memory_info().rss\n",
    "\n",
    "digits = 1_000_000\n",
    "\n",
    "records = Table()\n",
    "records.add_column('method')\n",
    "records.add_column('memory')\n",
    "records.add_column('time')\n",
    "\n",
    "# Let's now use the common and convenient \"row\" based format:\n"
   ]
  },
  {
   "cell_type": "code",
   "execution_count": 64,
   "metadata": {},
   "outputs": [],
   "source": [
    "\n",
    "start = process_time()\n",
    "L = []\n",
    "for _ in range(digits):\n",
    "    L.append(tuple([11 for _ in range(10)]))\n",
    "end = process_time()\n",
    "# go and check taskmanagers memory usage.\n",
    "# At this point we're using ~154.2 Mb to store 1 million lists with 10 items.\n",
    "records.add_rows(('1e6 lists w. 10 integers', process.memory_info().rss - baseline_memory, round(end-start,4)))\n",
    "\n",
    "L.clear()\n",
    "gc.collect()\n",
    "sleep(1)\n"
   ]
  },
  {
   "cell_type": "code",
   "execution_count": 65,
   "metadata": {},
   "outputs": [],
   "source": [
    "\n",
    "# Let's now use a columnar format instead:\n",
    "start = process_time()\n",
    "L = [[11 for i in range(digits)] for _ in range(10)]\n",
    "end = process_time()\n",
    "\n",
    "# go and check taskmanagers memory usage.\n",
    "# at this point we're using ~98.2 Mb to store 10 lists with 1 million items.\n",
    "records.add_rows(('10 lists with 1e6 integers', process.memory_info().rss - baseline_memory, round(end-start,4)))\n",
    "L.clear()\n",
    "gc.collect()\n",
    "sleep(1)\n"
   ]
  },
  {
   "cell_type": "code",
   "execution_count": 66,
   "metadata": {},
   "outputs": [],
   "source": [
    "\n",
    "# We've thereby saved 50 Mb by avoiding the overhead from managing 1 million lists.\n",
    "\n",
    "# Q: But why didn't I just use an array? It would have even lower memory footprint.\n",
    "# A: First, array's don't handle None's and we get that frequently in dirty csv data.\n",
    "# Second, Table needs even less memory.\n",
    "\n",
    "# Let's start with an array:\n",
    "\n",
    "import array\n",
    "start = process_time()\n",
    "L = [array.array('i', [11 for _ in range(digits)]) for _ in range(10)]\n",
    "end = process_time()\n",
    "# go and check taskmanagers memory usage.\n",
    "# at this point we're using 60.0 Mb to store 10 lists with 1 million integers.\n",
    "\n",
    "records.add_rows(('10 lists with 1e6 integers in arrays', process.memory_info().rss - baseline_memory, round(end-start,4)))\n",
    "L.clear()\n",
    "gc.collect()\n",
    "sleep(1)\n"
   ]
  },
  {
   "cell_type": "code",
   "execution_count": 67,
   "metadata": {},
   "outputs": [],
   "source": [
    "\n",
    "# Now let's use Table:\n",
    "\n",
    "start = process_time()\n",
    "t = Table()\n",
    "for i in range(10):\n",
    "    t.add_column(str(i), data=[11 for _ in range(digits)])\n",
    "end = process_time()\n",
    "\n",
    "records.add_rows(('Table with 10 columns with 1e6 integers', process.memory_info().rss - baseline_memory, round(end-start,4)))\n",
    "\n",
    "start = process_time()\n",
    "t2 = t.copy()\n",
    "end = process_time()\n",
    "\n",
    "records.add_rows(('2 Tables with 10 columns with 1e6 integers each', process.memory_info().rss - baseline_memory, round(end-start,4)))\n",
    "\n",
    "# go and check taskmanagers memory usage.\n",
    "# At this point we're using  24.5 Mb to store 10 columns with 1 million integers.\n",
    "# Only the metadata remains in pythons memory.\n"
   ]
  },
  {
   "cell_type": "markdown",
   "metadata": {},
   "source": [
    " Finally let's look at all the results:"
   ]
  },
  {
   "cell_type": "code",
   "execution_count": 68,
   "metadata": {},
   "outputs": [
    {
     "name": "stdout",
     "output_type": "stream",
     "text": [
      "+===+===============================================+=========+======+\n",
      "| # |                     method                    |  memory | time |\n",
      "|row|                      str                      |   int   |float |\n",
      "+---+-----------------------------------------------+---------+------+\n",
      "|0  |1e6 lists w. 10 integers                       |139595776|0.5625|\n",
      "|1  |10 lists with 1e6 integers                     | 83795968|0.3281|\n",
      "|2  |10 lists with 1e6 integers in arrays           | 43433984|0.4375|\n",
      "|3  |Table with 10 columns with 1e6 integers        |  3424256|1.3906|\n",
      "|4  |2 Tables with 10 columns with 1e6 integers each|  3420160|0.0625|\n",
      "+===+===============================================+=========+======+\n"
     ]
    }
   ],
   "source": [
    "\n",
    "records.show()"
   ]
  },
  {
   "cell_type": "markdown",
   "metadata": {},
   "source": [
    "*Conclusion*: A drop from 140 Mb to 3.5 Mb working memory using tablite Tables.\n",
    "\n",
    "\n"
   ]
  },
  {
   "cell_type": "markdown",
   "metadata": {},
   "source": [
    "### Conclusions\n",
    "\n",
    "This concludes the mega-tutorial to `tablite`. There's nothing more to it.\n",
    "But oh boy it'll save a lot of time.\n",
    "\n",
    "Here's a summary of features:\n",
    "\n",
    "- Everything a list can do, plus data type checking.\n",
    "- import csv*, tsv, txt, xls, xlsx, xlsm, ods, zip and log using `Table.from_file(...)`\n",
    "- import multiple files use `file_reader`.\n",
    "- Move fluently between disk and ram using `t.use_disk = True/False`\n",
    "- Iterate over rows or columns\n",
    "- Create multikey index, sort, use filter, any and all to select.\n",
    "  Lookup between tables using custom functions.\n",
    "- Perform multikey joins with other tables.\n",
    "- Perform groupby and reorganise data as a pivot table with max, min, sum, first, last, count, unique, average, st.deviation, median and mode\n",
    "- Update tables with `+=` which automatically sorts out the columns - even if they're not in perfect order.\n",
    "- Calculate out-of-memory summaries using `+=` on `groupby`, f.x. `groupby += t1`\n",
    "  \n"
   ]
  }
 ],
 "metadata": {
  "kernelspec": {
   "display_name": "Python 3.10.5 ('tablite310')",
   "language": "python",
   "name": "python3"
  },
  "language_info": {
   "codemirror_mode": {
    "name": "ipython",
    "version": 3
   },
   "file_extension": ".py",
   "mimetype": "text/x-python",
   "name": "python",
   "nbconvert_exporter": "python",
   "pygments_lexer": "ipython3",
   "version": "3.10.5"
  },
  "vscode": {
   "interpreter": {
    "hash": "1b75c014ea7baa1f5b7be99940e6541d4a8a7395e27dcba8ac6dff802f822df2"
   }
  }
 },
 "nbformat": 4,
 "nbformat_minor": 4
}
