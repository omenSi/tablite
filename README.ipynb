{
 "cells": [
  {
   "cell_type": "markdown",
   "metadata": {
    "pycharm": {
     "name": "#%% md\n"
    }
   },
   "source": [
    "# Tablite\n",
    "\n",
    "<table><tr>\n",
    "    <td> <img src=\"https://app.travis-ci.com/root-11/tablite.svg?branch=master\" alt=\"Build Status\" style=\"width: 100px;\"/> </td>\n",
    "    <td></td>\n",
    "        <td> <img src=\"https://codecov.io/gh/root-11/tablite/branch/master/graph/badge.svg\" alt=\"Code coverage\" style=\"width: 100px;\"/> </td>\n",
    "    <td></td>\n",
    "        <td> <img src=\"https://pepy.tech/badge/tablite\" alt=\"Downloads\" style=\"width: 100px;\"/> </td>\n",
    "    <td></td>\n",
    "        <td> <img src=\"https://pepy.tech/badge/tablite/month\" alt=\"Downloads / month\" style=\"width: 100px;\"/> </td>\n",
    "    <td></td>\n",
    "</tr></table>"
   ]
  },
  {
   "cell_type": "markdown",
   "metadata": {},
   "source": [
    "\n",
    "## Latest updates\n",
    "\n",
    "|Version|Change|\n",
    "|:---|:---|\n",
    "| 2022.01.26 |Bugfix for csv reader.<br>Python reads datetime.time.fromisoformat(\"20\") as time(20,0,0) and not as an error.<br> Obviously \"20\" is an integer.|\n",
    "| 2022.01.25 | Lookup API now accepts keyword `all` to permit search as `all` or `any`. |\n",
    "| 2022.01.24 | Join api changed so that left_columns and right_columns must be declared. |\n",
    "| 2021.11.03 | New call for StoredList.clear_cache() which drops all data to disk to free up memory.<br>Bug solved for median.|\n",
    "| 2021.11.02 | Faster StoredList classes<br>Updated documentation<br>A couple of bugfixes<br> Reverse indexing.<br>One temp file only for all stored lists.|"
   ]
  },
  {
   "cell_type": "markdown",
   "metadata": {},
   "source": [
    "\n",
    "# Introduction\n",
    "\n",
    "We're all tired of reinventing the wheel when we need to process a bit of data.\n",
    "\n",
    "- Pandas has a huge memory overhead when the datatypes are messy (hint: They are!).\n",
    "- Numpy has become a language of it's own. It just doesn't seem pythonic anymore.\n",
    "- Arrows [isn't ready](https://arrow.apache.org/docs/python/dataset.html).\n",
    "- SQLite is great but just too slow, particularly on disk.\n",
    "- Protobuffer is just overkill for storing data when I still need to implement all the analytics after that.\n",
    "\n",
    "So what do we do? We write a custom built class for the problem at hand and\n",
    "discover that we've just spent 3 hours doing something that should have taken\n",
    "20 minutes. No more please!\n",
    "\n",
    "### Enter: [Tablite](https://pypi.org/project/tablite/)\n",
    "A python library for tables that does everything you need in 200kB.\n",
    "\n",
    "Install: `pip install tablite`\n",
    "Usage:  `>>> from tablite import Table`"
   ]
  },
  {
   "cell_type": "markdown",
   "metadata": {},
   "source": [
    "\n",
    "### Overview\n",
    "\n",
    "- Tablite handles all Python datatypes: `str`, `float`, `bool`, `int`, `date`, `datetime`, `time`.\n",
    "- you can select:\n",
    "  - all rows in a column as `table['A']`\n",
    "  - rows across all columns as `table[4:8]`\n",
    "  - or a slice as `list(table.filter('A', 'B', slice(4,8)))`.\n",
    "- you to update with `table['A'][2] = new value`\n",
    "- you can store or send data using json, by:\n",
    "  - dumping to json: `json_str = table.to_json()`, or\n",
    "  - you can load it with `Table.from_json(json_str)`.\n",
    "- Type checking is automatic when you append or replace values.\n",
    "- it checks if the header name is already in use.\n",
    "- you can add any type of metadata to the table as `table(some_key='some_value')` or as `table.metadata['some key'] = 'some value'`.\n",
    "- you can ask `column_xyz in Table.colums` ?\n",
    "- load from files with `tables = list(Table.from_file('this.csv'))` which has automatic datatype detection\n",
    "- perform inner, outer & left sql join between tables as simple as `table_1.inner_join(table2, keys=['A', 'B'])`\n",
    "- summarise using `table.groupby( ... )`\n",
    "- create pivot tables using `groupby.pivot( ... )`\n",
    "- perform multi-criteria lookup in tables using `table1.lookup(table2, criteria=.....`\n",
    "\n",
    "\n",
    "### Examples\n",
    "\n",
    "Here are some examples:"
   ]
  },
  {
   "cell_type": "code",
   "execution_count": 1,
   "metadata": {
    "pycharm": {
     "name": "#%%\n"
    }
   },
   "outputs": [],
   "source": [
    "from tablite import Table\n",
    "table = Table()  # Create an empty table *in memory*"
   ]
  },
  {
   "cell_type": "code",
   "execution_count": 2,
   "metadata": {
    "pycharm": {
     "name": "#%%\n"
    }
   },
   "outputs": [],
   "source": [
    "table_on_disk = Table(use_disk=True)  # Create an empty table *on disk*"
   ]
  },
  {
   "cell_type": "code",
   "execution_count": 3,
   "metadata": {
    "pycharm": {
     "name": "#%%\n"
    }
   },
   "outputs": [],
   "source": [
    "table.add_column(header='A', datatype=int, allow_empty=False) # Add an empty column"
   ]
  },
  {
   "cell_type": "code",
   "execution_count": 4,
   "metadata": {
    "pycharm": {
     "name": "#%%\n"
    }
   },
   "outputs": [
    {
     "data": {
      "text/plain": [
       "InMemoryColumn(A,<class 'int'>,False) # (0 rows)"
      ]
     },
     "execution_count": 4,
     "metadata": {},
     "output_type": "execute_result"
    }
   ],
   "source": [
    "table['A']  # Access the column"
   ]
  },
  {
   "cell_type": "code",
   "execution_count": 5,
   "metadata": {
    "pycharm": {
     "name": "#%%\n"
    }
   },
   "outputs": [
    {
     "name": "stdout",
     "output_type": "stream",
     "text": [
      "+=====+\n",
      "|  A  |\n",
      "| int |\n",
      "|False|\n",
      "+-----+\n",
      "|   10|\n",
      "|    9|\n",
      "|    8|\n",
      "|    7|\n",
      "|    6|\n",
      "|    5|\n",
      "|    4|\n",
      "|    3|\n",
      "|    2|\n",
      "+=====+\n",
      "showing all 9 rows\n"
     ]
    }
   ],
   "source": [
    "table['A'].extend([i for i in range(10,1,-1)]) # Add data to the column\n",
    "table.show(row_count=True)"
   ]
  },
  {
   "cell_type": "code",
   "execution_count": 6,
   "metadata": {
    "pycharm": {
     "name": "#%%\n"
    }
   },
   "outputs": [
    {
     "data": {
      "text/plain": [
       "3"
      ]
     },
     "execution_count": 6,
     "metadata": {},
     "output_type": "execute_result"
    }
   ],
   "source": [
    "table['A'][7]  # Access index in column"
   ]
  },
  {
   "cell_type": "code",
   "execution_count": 7,
   "metadata": {
    "pycharm": {
     "name": "#%%\n"
    }
   },
   "outputs": [],
   "source": [
    "table.add_column('B', str, allow_empty=False)  #Add another column that doesn't tolerate None's"
   ]
  },
  {
   "cell_type": "code",
   "execution_count": 8,
   "metadata": {
    "pycharm": {
     "name": "#%%\n"
    }
   },
   "outputs": [],
   "source": [
    "table.add_column('B', int, allow_empty=True)   # Gracefully deal with duplicate column names"
   ]
  },
  {
   "cell_type": "code",
   "execution_count": 9,
   "metadata": {
    "pycharm": {
     "name": "#%%\n"
    }
   },
   "outputs": [],
   "source": [
    "table.rename_column('A', 'aa')  # Rename column"
   ]
  },
  {
   "cell_type": "code",
   "execution_count": 10,
   "metadata": {
    "pycharm": {
     "name": "#%%\n"
    }
   },
   "outputs": [
    {
     "data": {
      "text/plain": [
       "{'aa': InMemoryColumn(aa,<class 'int'>,False) # (9 rows),\n",
       " 'B': InMemoryColumn(B,<class 'str'>,False) # (0 rows),\n",
       " 'B_1': InMemoryColumn(B_1,<class 'int'>,True) # (0 rows)}"
      ]
     },
     "execution_count": 10,
     "metadata": {},
     "output_type": "execute_result"
    }
   ],
   "source": [
    "table.columns"
   ]
  },
  {
   "cell_type": "code",
   "execution_count": 11,
   "metadata": {
    "pycharm": {
     "name": "#%%\n"
    }
   },
   "outputs": [],
   "source": [
    "table.rename_column('aa', 'A')  # rename back"
   ]
  },
  {
   "cell_type": "code",
   "execution_count": 12,
   "metadata": {
    "pycharm": {
     "name": "#%%\n"
    }
   },
   "outputs": [],
   "source": [
    "del table['B_1']  # Delete a column"
   ]
  },
  {
   "cell_type": "code",
   "execution_count": 13,
   "metadata": {
    "pycharm": {
     "name": "#%%\n"
    }
   },
   "outputs": [
    {
     "data": {
      "text/plain": [
       "{'A': InMemoryColumn(A,<class 'int'>,False) # (9 rows),\n",
       " 'B': InMemoryColumn(B,<class 'str'>,False) # (0 rows)}"
      ]
     },
     "execution_count": 13,
     "metadata": {},
     "output_type": "execute_result"
    }
   ],
   "source": [
    "table.columns  # evidence that we're back again"
   ]
  },
  {
   "cell_type": "code",
   "execution_count": 14,
   "metadata": {
    "pycharm": {
     "name": "#%%\n"
    }
   },
   "outputs": [],
   "source": [
    "table['A'].clear()  # clear column 'A'."
   ]
  },
  {
   "cell_type": "code",
   "execution_count": 15,
   "metadata": {
    "pycharm": {
     "name": "#%%\n"
    }
   },
   "outputs": [
    {
     "name": "stdout",
     "output_type": "stream",
     "text": [
      "+=====+=====+\n",
      "|  A  |  B  |\n",
      "| int | str |\n",
      "|False|False|\n",
      "+-----+-----+\n",
      "+=====+=====+\n",
      "no rows\n"
     ]
    }
   ],
   "source": [
    "table.show()"
   ]
  },
  {
   "cell_type": "code",
   "execution_count": 16,
   "metadata": {
    "pycharm": {
     "name": "#%%\n"
    }
   },
   "outputs": [
    {
     "name": "stdout",
     "output_type": "stream",
     "text": [
      "+=====+=====+\n",
      "|  A  |  B  |\n",
      "| int | str |\n",
      "|False|False|\n",
      "+-----+-----+\n",
      "|    1|hello|\n",
      "|    2|world|\n",
      "+=====+=====+\n",
      "showing all 2 rows\n"
     ]
    }
   ],
   "source": [
    "table.add_row((1, 'hello'))  # append (a couple of) rows\n",
    "table.add_row((2, 'world'))\n",
    "table.show()"
   ]
  },
  {
   "cell_type": "code",
   "execution_count": 17,
   "metadata": {
    "pycharm": {
     "name": "#%%\n"
    }
   },
   "outputs": [
    {
     "name": "stdout",
     "output_type": "stream",
     "text": [
      "+=====+=====+\n",
      "|  A  |  B  |\n",
      "| int | str |\n",
      "|False|False|\n",
      "+-----+-----+\n",
      "|    1|hello|\n",
      "|   44|Hallo|\n",
      "+=====+=====+\n",
      "showing all 2 rows\n"
     ]
    }
   ],
   "source": [
    "table['A'][-1] = 44        # update values\n",
    "table['B'][-1] = \"Hallo\"   # (should be familiar to any user who knows how to update a list)\n",
    "table.show()"
   ]
  },
  {
   "cell_type": "markdown",
   "metadata": {
    "pycharm": {
     "name": "#%% md\n"
    }
   },
   "source": [
    "Type verification is included, and it complaints if you're doing it wrong|`"
   ]
  },
  {
   "cell_type": "code",
   "execution_count": 18,
   "metadata": {
    "pycharm": {
     "name": "#%%\n"
    }
   },
   "outputs": [
    {
     "name": "stdout",
     "output_type": "stream",
     "text": [
      "Hallo is not of type <class 'int'>\n"
     ]
    }
   ],
   "source": [
    "try:\n",
    "    table.columns['A'][0] = 'Hallo'  # Will raise TypeError as 'A' is int.|\n",
    "except TypeError as te:\n",
    "    print(te)"
   ]
  },
  {
   "cell_type": "code",
   "execution_count": 19,
   "metadata": {
    "pycharm": {
     "name": "#%%\n"
    }
   },
   "outputs": [
    {
     "name": "stdout",
     "output_type": "stream",
     "text": [
      "+=====+=====+\n",
      "|  A  |  B  |\n",
      "| int | str |\n",
      "|False|False|\n",
      "+-----+-----+\n",
      "|    1|hello|\n",
      "|   44|Hallo|\n",
      "|    1|hello|\n",
      "|   44|Hallo|\n",
      "+=====+=====+\n",
      "showing all 4 rows\n"
     ]
    }
   ],
   "source": [
    "table2x = table + table                # extend a table\n",
    "assert len(table2x) == len(table) * 2  # this assertion will hold\n",
    "table2x.show()"
   ]
  },
  {
   "cell_type": "code",
   "execution_count": 20,
   "metadata": {
    "pycharm": {
     "name": "#%%\n"
    }
   },
   "outputs": [],
   "source": [
    "table2x += table   #  iteradd works, so now this will hold:\n",
    "assert len(table2x) == len(table) * 3"
   ]
  },
  {
   "cell_type": "code",
   "execution_count": 21,
   "metadata": {
    "pycharm": {
     "name": "#%%\n"
    }
   },
   "outputs": [],
   "source": [
    "table3 = table.copy()  # to copy a table use `copy()`"
   ]
  },
  {
   "cell_type": "code",
   "execution_count": 22,
   "metadata": {
    "pycharm": {
     "name": "#%%\n"
    }
   },
   "outputs": [],
   "source": [
    "table4 = table.copy_columns_only()  # copy the headers only"
   ]
  },
  {
   "cell_type": "code",
   "execution_count": 23,
   "metadata": {
    "pycharm": {
     "name": "#%%\n"
    }
   },
   "outputs": [
    {
     "data": {
      "text/plain": [
       "True"
      ]
     },
     "execution_count": 23,
     "metadata": {},
     "output_type": "execute_result"
    }
   ],
   "source": [
    "table.compare(table3)  # To compare table metadata.\n",
    "# This will raise exception if they're different."
   ]
  },
  {
   "cell_type": "code",
   "execution_count": 24,
   "metadata": {
    "pycharm": {
     "name": "#%%\n"
    }
   },
   "outputs": [
    {
     "data": {
      "text/plain": [
       "True"
      ]
     },
     "execution_count": 24,
     "metadata": {},
     "output_type": "execute_result"
    }
   ],
   "source": [
    "table != table2x != table3  # compare tables using equal."
   ]
  },
  {
   "cell_type": "code",
   "execution_count": 25,
   "metadata": {
    "pycharm": {
     "name": "#%%\n"
    }
   },
   "outputs": [
    {
     "name": "stdout",
     "output_type": "stream",
     "text": [
      "+=====+=====+\n",
      "|  A  |  B  |\n",
      "| int | str |\n",
      "|False|False|\n",
      "+-----+-----+\n",
      "|    1|hello|\n",
      "|   44|Hallo|\n",
      "+=====+=====+\n",
      "showing all 2 rows\n"
     ]
    }
   ],
   "source": [
    "table_chunk = table2x[2:4]   # get slice\n",
    "assert isinstance(table_chunk, Table)\n",
    "table_chunk.show()"
   ]
  },
  {
   "cell_type": "code",
   "execution_count": 26,
   "metadata": {
    "pycharm": {
     "name": "#%%\n"
    }
   },
   "outputs": [],
   "source": [
    "# Add a column with data this way:\n",
    "table.add_column('new column', str, allow_empty=False, data=[f\"{r}\" for r in table.rows])"
   ]
  },
  {
   "cell_type": "code",
   "execution_count": 27,
   "metadata": {
    "pycharm": {
     "name": "#%%\n"
    }
   },
   "outputs": [
    {
     "name": "stdout",
     "output_type": "stream",
     "text": [
      "(1, 'hello', \"(1, 'hello')\")\n",
      "(44, 'Hallo', \"(44, 'Hallo')\")\n"
     ]
    }
   ],
   "source": [
    "# Use for to iterate over rows\n",
    "for row in table.rows:\n",
    "    print(row)"
   ]
  },
  {
   "cell_type": "code",
   "execution_count": 28,
   "metadata": {
    "pycharm": {
     "name": "#%%\n"
    }
   },
   "outputs": [
    {
     "name": "stdout",
     "output_type": "stream",
     "text": [
      "+=====+=====+=============+\n",
      "|  A  |  B  |  new column |\n",
      "| int | str |     str     |\n",
      "|False|False|    False    |\n",
      "+-----+-----+-------------+\n",
      "|   10|hello|(1, 'hello') |\n",
      "|  440|Hallo|(44, 'Hallo')|\n",
      "+=====+=====+=============+\n",
      "showing all 2 rows\n"
     ]
    }
   ],
   "source": [
    "# using regular indexing, you can do this:\n",
    "for ix, r in enumerate(table['A']):\n",
    "    table['A'][ix] = r * 10\n",
    "table.show()"
   ]
  },
  {
   "cell_type": "code",
   "execution_count": 29,
   "metadata": {
    "pycharm": {
     "name": "#%%\n"
    }
   },
   "outputs": [
    {
     "name": "stdout",
     "output_type": "stream",
     "text": [
      "+=====+=====+=============+\n",
      "|  A  |  B  |  new column |\n",
      "| int | str |     str     |\n",
      "|False|False|    False    |\n",
      "+-----+-----+-------------+\n",
      "|  100|hello|(1, 'hello') |\n",
      "| 4400|Hallo|(44, 'Hallo')|\n",
      "+=====+=====+=============+\n",
      "showing all 2 rows\n"
     ]
    }
   ],
   "source": [
    "# updating a column with a function, works this way:\n",
    "f = lambda x: x * 10\n",
    "table['A'] = [f(r) for r in table['A']]\n",
    "table.show()"
   ]
  },
  {
   "cell_type": "code",
   "execution_count": 30,
   "metadata": {
    "pycharm": {
     "name": "#%%\n"
    }
   },
   "outputs": [
    {
     "name": "stdout",
     "output_type": "stream",
     "text": [
      "+=====+=====+=====+=====+=====+=====+===================+==========+========+\n",
      "|  A  | A_1 | A_2 | A_3 | A_4 | A_5 |        A_6        |   A_7    |  A_8   |\n",
      "| int | int |float| str | str | bool|      datetime     |   date   |  time  |\n",
      "|False| True|False|False| True|False|       False       |  False   | False  |\n",
      "+-----+-----+-----+-----+-----+-----+-------------------+----------+--------+\n",
      "|   -1|None | -1.1|     |None |False|2022-01-30 11:02:30|2022-01-30|11:02:30|\n",
      "|    1|    1|  1.1|1    |1    | True|2022-01-30 11:02:30|2022-01-30|11:02:30|\n",
      "+=====+=====+=====+=====+=====+=====+===================+==========+========+\n",
      "showing all 2 rows\n"
     ]
    }
   ],
   "source": [
    "# Tablite works with all datatypes:\n",
    "from datetime import datetime,date,time\n",
    "now = datetime.now().replace(microsecond=0)\n",
    "table4 = Table()\n",
    "table4.add_column('A', int, allow_empty=False, data=[-1, 1])\n",
    "table4.add_column('A', int, allow_empty=True, data=[None, 1])  # (1)\n",
    "table4.add_column('A', float, False, data=[-1.1, 1.1])\n",
    "table4.add_column('A', str, False, data=[\"\", \"1\"])             # (2)\n",
    "table4.add_column('A', str, True, data=[None, \"1\"])            # (1,2)\n",
    "table4.add_column('A', bool, False, data=[False, True])\n",
    "table4.add_column('A', datetime, False, data=[now, now])\n",
    "table4.add_column('A', date, False, data=[now.date(), now.date()])\n",
    "table4.add_column('A', time, False, data=[now.time(), now.time()])\n",
    "# (1) with `allow_empty=True` `None` is permitted.\n",
    "# (2) Empty string is not a None, when datatype is string.\n",
    "table4.show()"
   ]
  },
  {
   "cell_type": "markdown",
   "metadata": {},
   "source": [
    "To learn more about datatypes, see:"
   ]
  },
  {
   "cell_type": "code",
   "execution_count": 31,
   "metadata": {},
   "outputs": [],
   "source": [
    "from tablite.datatypes import DataTypes"
   ]
  },
  {
   "cell_type": "code",
   "execution_count": 32,
   "metadata": {
    "pycharm": {
     "name": "#%%\n"
    }
   },
   "outputs": [
    {
     "name": "stdout",
     "output_type": "stream",
     "text": [
      "{\"metadata\": {}, \"columns\": [\"{\\\"header\\\": \\\"A\\\", \\\"datatype\\\": \\\"int\\\", \\\"allow_empty\\\": false, \\\"m ... \"11:02:30\\\\\\\"]\\\"}\"]}\n"
     ]
    }
   ],
   "source": [
    "# json - to and from\n",
    "table4_json = table4.to_json()\n",
    "print(table4_json[:100], \"...\", table4_json[-20:])"
   ]
  },
  {
   "cell_type": "code",
   "execution_count": 33,
   "metadata": {
    "pycharm": {
     "name": "#%%\n"
    }
   },
   "outputs": [],
   "source": [
    "table5 = Table.from_json(table4_json)\n",
    "assert table4 == table5"
   ]
  },
  {
   "cell_type": "code",
   "execution_count": 34,
   "metadata": {
    "pycharm": {
     "name": "#%%\n"
    }
   },
   "outputs": [
    {
     "name": "stdout",
     "output_type": "stream",
     "text": [
      "+=======+========+\n",
      "|   A   |   B    |\n",
      "|  str  |  str   |\n",
      "| False | False  |\n",
      "+-------+--------+\n",
      "|Alice  |Alison  |\n",
      "|Bob    |Marley  |\n",
      "|Bob    |Dylan   |\n",
      "|Ben    |Affleck |\n",
      "|Charlie|Hepburn |\n",
      "|Ben    |Barnes  |\n",
      "|Albert |Einstein|\n",
      "+=======+========+\n",
      "showing all 7 rows\n"
     ]
    }
   ],
   "source": [
    "# doing lookups is supported by indexing\n",
    "table6 = Table()\n",
    "table6.add_column('A', str, data=['Alice', 'Bob', 'Bob', 'Ben', 'Charlie', 'Ben','Albert'])\n",
    "table6.add_column('B', str, data=['Alison', 'Marley', 'Dylan', 'Affleck', 'Hepburn', 'Barnes', 'Einstein'])\n",
    "table6.show()"
   ]
  },
  {
   "cell_type": "code",
   "execution_count": 35,
   "metadata": {
    "pycharm": {
     "name": "#%%\n"
    }
   },
   "outputs": [],
   "source": [
    "index = table6.index('A')  # single key.\n",
    "assert index[('Bob',)] == {1, 2}\n",
    "index2 = table6.index('A', 'B')  # multiple keys.\n",
    "assert index2[('Bob', 'Dylan')] == {2}"
   ]
  },
  {
   "cell_type": "code",
   "execution_count": 36,
   "metadata": {
    "pycharm": {
     "name": "#%%\n"
    }
   },
   "outputs": [],
   "source": [
    "# Add metadata in the `.metadata` attribute\n",
    "table5.metadata['db_mapping'] = {\n",
    "    'A': 'customers.customer_name',\n",
    "    'A_2': 'product.sku',\n",
    "    'A_4': 'locations.sender'\n",
    "}"
   ]
  },
  {
   "cell_type": "code",
   "execution_count": 37,
   "metadata": {
    "pycharm": {
     "name": "#%%\n"
    }
   },
   "outputs": [
    {
     "name": "stdout",
     "output_type": "stream",
     "text": [
      "+=======+========+\n",
      "|   A   |   B    |\n",
      "|  str  |  str   |\n",
      "| False | False  |\n",
      "+-------+--------+\n",
      "|Alice  |Alison  |\n",
      "|Bob    |Marley  |\n",
      "|Bob    |Dylan   |\n",
      "|Ben    |Affleck |\n",
      "|Charlie|Hepburn |\n",
      "|Ben    |Barnes  |\n",
      "|Albert |Einstein|\n",
      "+=======+========+\n",
      "showing all 7 rows\n"
     ]
    }
   ],
   "source": [
    "# Copy data to/from clipboard is also supported:\n",
    "table6.copy_to_clipboard()\n",
    "t = Table.copy_from_clipboard()\n",
    "t.show()"
   ]
  },
  {
   "cell_type": "code",
   "execution_count": 38,
   "metadata": {
    "pycharm": {
     "name": "#%%\n"
    }
   },
   "outputs": [],
   "source": [
    "# converting to/from json is just as simple.\n",
    "table_as_json = table.to_json()\n",
    "table2 = Table.from_json(table_as_json)"
   ]
  },
  {
   "cell_type": "raw",
   "metadata": {
    "pycharm": {
     "name": "#%% raw\n"
    }
   },
   "source": [
    "# to free up memory you can store any table on disk using\n",
    "zlib.compress(table_as_json.encode())"
   ]
  },
  {
   "cell_type": "code",
   "execution_count": 39,
   "metadata": {
    "pycharm": {
     "name": "#%%\n"
    }
   },
   "outputs": [
    {
     "name": "stdout",
     "output_type": "stream",
     "text": [
      "+=====+=====+=============+\n",
      "|  A  |  B  |  new column |\n",
      "| int | str |     str     |\n",
      "|False|False|    False    |\n",
      "+-----+-----+-------------+\n",
      "|  100|hello|(1, 'hello') |\n",
      "| 4400|Hallo|(44, 'Hallo')|\n",
      "+=====+=====+=============+\n",
      "showing all 2 rows\n"
     ]
    }
   ],
   "source": [
    "# Finally if you just want to view it interactively (or a slice of it), use:\n",
    "table.show()"
   ]
  },
  {
   "cell_type": "code",
   "execution_count": 40,
   "metadata": {
    "pycharm": {
     "name": "#%%\n"
    }
   },
   "outputs": [
    {
     "name": "stdout",
     "output_type": "stream",
     "text": [
      "+=====+\n",
      "|  A  |\n",
      "| int |\n",
      "|False|\n",
      "+-----+\n",
      "|  100|\n",
      "+=====+\n",
      "(showing 1 of 2 rows)\n"
     ]
    }
   ],
   "source": [
    "table.show('A', slice(0,1))"
   ]
  },
  {
   "cell_type": "markdown",
   "metadata": {
    "pycharm": {
     "name": "#%% md\n"
    }
   },
   "source": [
    "Note that `.show` works with any number of arguments.\n",
    "Below is an example with keyword `blanks` set to an empty string instead of\n",
    "the default `None`. Also notice that by slicing the column names from `table.columns`\n",
    "you can limit what is show."
   ]
  },
  {
   "cell_type": "code",
   "execution_count": 41,
   "metadata": {
    "pycharm": {
     "name": "#%%\n"
    }
   },
   "outputs": [
    {
     "name": "stdout",
     "output_type": "stream",
     "text": [
      "+=====+=======+\n",
      "|  A  |   B   |\n",
      "| str |  str  |\n",
      "|False| False |\n",
      "+-----+-------+\n",
      "|Bob  |Marley |\n",
      "|Ben  |Affleck|\n",
      "+=====+=======+\n",
      "(showing 2 of 7 rows)\n"
     ]
    }
   ],
   "source": [
    "table6.show(slice(1,5,2), blanks=\"\")"
   ]
  },
  {
   "cell_type": "markdown",
   "metadata": {
    "pycharm": {
     "name": "#%% md\n"
    }
   },
   "source": [
    "### How do I add data again?"
   ]
  },
  {
   "cell_type": "code",
   "execution_count": 42,
   "metadata": {
    "pycharm": {
     "name": "#%%\n"
    }
   },
   "outputs": [],
   "source": [
    "from tablite import Table\n",
    "from itertools import count\n",
    "\n",
    "t = Table()\n",
    "t.add_column('row', int)\n",
    "t.add_column('A', int)\n",
    "t.add_column('B', int)\n",
    "t.add_column('C', int)\n",
    "test_number = count(1)"
   ]
  },
  {
   "cell_type": "markdown",
   "metadata": {
    "pycharm": {
     "name": "#%% md\n"
    }
   },
   "source": [
    "The following examples are all valid and append the row (1,2,3) to the table."
   ]
  },
  {
   "cell_type": "code",
   "execution_count": 43,
   "metadata": {
    "pycharm": {
     "name": "#%%\n"
    }
   },
   "outputs": [],
   "source": [
    "t.add_row(1, 1, 2, 3)  # individual values\n",
    "t.add_row([2, 1, 2, 3])  # list of values\n",
    "t.add_row((3, 1, 2, 3))  # tuple of values\n",
    "t.add_row(*(4, 1, 2, 3))  # unpacked tuple\n",
    "t.add_row(row=5, A=1, B=2, C=3)   # keyword - args\n",
    "t.add_row(**{'row': 6, 'A': 1, 'B': 2, 'C': 3})  # dict / json."
   ]
  },
  {
   "cell_type": "markdown",
   "metadata": {
    "pycharm": {
     "name": "#%% md\n"
    }
   },
   "source": [
    "The following examples add two rows to the table"
   ]
  },
  {
   "cell_type": "code",
   "execution_count": 44,
   "metadata": {
    "pycharm": {
     "name": "#%%\n"
    }
   },
   "outputs": [],
   "source": [
    "t.add_row((7, 1, 2, 3), (8, 4, 5, 6))  # two (or more) tuples.\n",
    "t.add_row([9, 1, 2, 3], [10, 4, 5, 6])  # two or more lists\n",
    "t.add_row({'row': 11, 'A': 1, 'B': 2, 'C': 3},\n",
    "          {'row': 12, 'A': 4, 'B': 5, 'C': 6})  # two (or more) dicts as args.\n",
    "t.add_row(*[{'row': 13, 'A': 1, 'B': 2, 'C': 3},\n",
    "            {'row': 14, 'A': 1, 'B': 2, 'C': 3}])  # list of dicts."
   ]
  },
  {
   "cell_type": "markdown",
   "metadata": {
    "pycharm": {
     "name": "#%% md\n"
    }
   },
   "source": [
    "As the row incremented from `1` in the first of these examples, and finished with\n",
    "`row: 14`, you can now see the whole table below:"
   ]
  },
  {
   "cell_type": "code",
   "execution_count": 45,
   "metadata": {
    "pycharm": {
     "name": "#%%\n"
    }
   },
   "outputs": [
    {
     "name": "stdout",
     "output_type": "stream",
     "text": [
      "+=====+=====+=====+=====+\n",
      "| row |  A  |  B  |  C  |\n",
      "| int | int | int | int |\n",
      "|False|False|False|False|\n",
      "+-----+-----+-----+-----+\n",
      "|    1|    1|    2|    3|\n",
      "|    2|    1|    2|    3|\n",
      "|    3|    1|    2|    3|\n",
      "|    4|    1|    2|    3|\n",
      "|    5|    1|    2|    3|\n",
      "|    6|    1|    2|    3|\n",
      "|    7|    1|    2|    3|\n",
      "|    8|    4|    5|    6|\n",
      "|    9|    1|    2|    3|\n",
      "|   10|    4|    5|    6|\n",
      "|   11|    1|    2|    3|\n",
      "|   12|    4|    5|    6|\n",
      "|   13|    1|    2|    3|\n",
      "|   14|    1|    2|    3|\n",
      "+=====+=====+=====+=====+\n",
      "showing all 14 rows\n"
     ]
    }
   ],
   "source": [
    "t.show()"
   ]
  },
  {
   "cell_type": "markdown",
   "metadata": {
    "pycharm": {
     "name": "#%% md\n"
    }
   },
   "source": [
    "### Okay, great. How do I load data?\n",
    "\n",
    "Easy. Use `file_reader`. Here's an example:"
   ]
  },
  {
   "cell_type": "code",
   "execution_count": 46,
   "metadata": {
    "pycharm": {
     "name": "#%%\n"
    }
   },
   "outputs": [
    {
     "name": "stdout",
     "output_type": "stream",
     "text": [
      "book1.csv has 2 rows and the columns: ('a', 'b', 'c', 'd', 'e', 'f')\n",
      "book1.tsv has 2 rows and the columns: ('a', 'b', 'c', 'd', 'e', 'f')\n",
      "book1.txt has 2 rows and the columns: ('a', 'b', 'c', 'd', 'e', 'f')\n",
      "book1.xlsx has 2 rows and the columns: ('a', 'b', 'c', 'd', 'e', 'f')\n",
      "book1.xlsx has 2 rows and the columns: ('a', 'b', 'c', 'd', 'e', 'f')\n"
     ]
    }
   ],
   "source": [
    "from pathlib import Path\n",
    "from tablite.core import file_reader\n",
    "\n",
    "for path in Path('tests/data').iterdir():\n",
    "    if \"book\" in path.name:\n",
    "        for t in file_reader(path):\n",
    "            assert isinstance(t, Table)\n",
    "            print(f\"{path.name} has {len(table)} rows and the columns: {tuple(t.columns)}\")\n"
   ]
  },
  {
   "cell_type": "markdown",
   "metadata": {
    "pycharm": {
     "name": "#%% md\n"
    }
   },
   "source": [
    "This will also work:"
   ]
  },
  {
   "cell_type": "code",
   "execution_count": 47,
   "metadata": {
    "pycharm": {
     "name": "#%%\n"
    }
   },
   "outputs": [
    {
     "name": "stdout",
     "output_type": "stream",
     "text": [
      "book1.xlsx.Sheet1 has 2 rows and the columns: ('a', 'b', 'c', 'd', 'e', 'f')\n",
      "book1.xlsx.Sheet2 has 2 rows and the columns: ('a', 'b', 'c', 'd', 'e', 'f')\n"
     ]
    }
   ],
   "source": [
    "from tablite import Table\n",
    "tables = Table.from_file(Path('tests/data/book1.xlsx'))\n",
    "t_1 = next(tables)  # use next to fetch the first.\n",
    "print(f\"{t_1.metadata['filename']}.{t_1.metadata['sheet_name']} has {len(table)} rows and the columns: {tuple(t_1.columns)}\")\n",
    "\n",
    "for rest in tables:\n",
    "    print(f\"{rest.metadata['filename']}.{rest.metadata['sheet_name']}has {len(table)} rows and the columns: {tuple(rest.columns)}\")"
   ]
  },
  {
   "cell_type": "markdown",
   "metadata": {
    "pycharm": {
     "name": "#%% md\n"
    }
   },
   "source": [
    "The `file_reader` currently accepts the following formats:\n",
    "\n",
    "`csv, tsv, txt, xls, xlsx, xlsm, ods, zip, log.`\n",
    "\n",
    "And should you have some wicked format like:\n",
    "\n",
    "```19-Sep 02:59:47.153 web_id821 LOG 62.13.11.127 [3] (USER_N) ProcessScannedItem() : Scan[35572] LineNo 201636 scanned 1 of product 2332```\n",
    "\n",
    "you can provide a split_sequence as a keyword:\n",
    "\n",
    "```\n",
    "table = file_reader('web.log', \n",
    "                    split_sequence=[\" \", \" \", \" \", \" \",\" [\", \"] (\", \") \", \" : \", \"LineNo \", \" scanned \", \"of \"])\n",
    "```"
   ]
  },
  {
   "cell_type": "markdown",
   "metadata": {
    "pycharm": {
     "name": "#%% md\n"
    }
   },
   "source": [
    "**How good is the file_reader?**\n",
    "\n",
    "I've included all formats in the test suite that are publicly available from the [Alan Turing institute](https://github.com/alan-turing-institute), [dateutils](https://github.com/dateutil/dateutil)) and cPythons [csv reader](https://github.com/python/cpython/blob/master/Lib/csv.py).\n",
    "\n",
    "`MM-DD-YYYY` formats? Some users from the US ask why the csv reader doesn't read the month-day-year format.\n",
    "The answer is simple: It's not an [iso8601](https://en.wikipedia.org/wiki/ISO_8601) format. The US month-day-year format is a locale that may be used a lot in the US, but it isn't an international standard. If you need to work with `MM-DD-YYYY` you will find that the file_reader will import the values as text (str). You can then reformat it with a custom function like:"
   ]
  },
  {
   "cell_type": "code",
   "execution_count": 48,
   "metadata": {
    "pycharm": {
     "name": "#%%\n"
    }
   },
   "outputs": [
    {
     "data": {
      "text/plain": [
       "datetime.date(1998, 3, 21)"
      ]
     },
     "execution_count": 48,
     "metadata": {},
     "output_type": "execute_result"
    }
   ],
   "source": [
    "s = \"03-21-1998\"\n",
    "from datetime import date\n",
    "f = lambda s: date(int(s[-4:]), int(s[:2]), int(s[3:5]))\n",
    "f(s)"
   ]
  },
  {
   "cell_type": "markdown",
   "metadata": {
    "pycharm": {
     "name": "#%% md\n"
    }
   },
   "source": [
    "### Sweet. Can I add my own file reader?\n",
    "\n",
    "Yes! This is very good for special log files or custom json formats.\n",
    "Here's how you do it:\n",
    "\n",
    "(1) Go to all existing readers in the `tablite.core` and find the closest match."
   ]
  },
  {
   "cell_type": "code",
   "execution_count": 49,
   "metadata": {
    "pycharm": {
     "name": "#%%\n"
    }
   },
   "outputs": [
    {
     "name": "stdout",
     "output_type": "stream",
     "text": [
      "('csv', [<function text_reader at 0x0000025F7666DA60>, {}])\n",
      "('tsv', [<function text_reader at 0x0000025F7666DA60>, {}])\n",
      "('txt', [<function text_reader at 0x0000025F7666DA60>, {}])\n",
      "('xls', [<function excel_reader at 0x0000025F76797430>, {}])\n",
      "('xlsx', [<function excel_reader at 0x0000025F76797430>, {}])\n",
      "('xlsm', [<function excel_reader at 0x0000025F76797430>, {}])\n",
      "('ods', [<function ods_reader at 0x0000025F767974C0>, {}])\n",
      "('zip', [<function zip_reader at 0x0000025F76797550>, {}])\n",
      "('log', [<function log_reader at 0x0000025F767975E0>, {'sep': False}])\n"
     ]
    }
   ],
   "source": [
    "from tablite.core import readers\n",
    "for kv in readers.items():\n",
    "    print(kv)"
   ]
  },
  {
   "cell_type": "markdown",
   "metadata": {
    "pycharm": {
     "name": "#%% md\n"
    }
   },
   "source": [
    "(2) define your new file reader"
   ]
  },
  {
   "cell_type": "code",
   "execution_count": 50,
   "metadata": {
    "pycharm": {
     "name": "#%%\n"
    }
   },
   "outputs": [],
   "source": [
    "def my_magic_reader(path):   # define your new file reader.\n",
    "    print(\"do magic with {path}\")\n",
    "    return"
   ]
  },
  {
   "cell_type": "markdown",
   "metadata": {
    "pycharm": {
     "name": "#%% md\n"
    }
   },
   "source": [
    "(3) add it to the list of readers."
   ]
  },
  {
   "cell_type": "code",
   "execution_count": 51,
   "metadata": {
    "pycharm": {
     "name": "#%%\n"
    }
   },
   "outputs": [],
   "source": [
    "readers['my_magic_reader'] = [my_magic_reader, {}]"
   ]
  },
  {
   "cell_type": "markdown",
   "metadata": {
    "pycharm": {
     "name": "#%% md\n"
    }
   },
   "source": [
    "The `file_readers` are all in [tablite.core](https://github.com/root-11/tablite/blob/master/tablite/core.py) so if you intend to extend the readers, I recommend that you start here."
   ]
  },
  {
   "cell_type": "markdown",
   "metadata": {
    "pycharm": {
     "name": "#%% md\n"
    }
   },
   "source": [
    "### Cool. Does it play well with plotly?\n",
    "\n",
    "Yes. Here's an example you can copy and paste:"
   ]
  },
  {
   "cell_type": "code",
   "execution_count": 52,
   "metadata": {
    "pycharm": {
     "name": "#%%\n"
    }
   },
   "outputs": [
    {
     "name": "stdout",
     "output_type": "stream",
     "text": [
      "+=====+=====+\n",
      "|  a  |  b  |\n",
      "| int | int |\n",
      "| True|False|\n",
      "+-----+-----+\n",
      "|    1|   10|\n",
      "|    2|  100|\n",
      "|    8|    3|\n",
      "|    3|    4|\n",
      "|    4|   16|\n",
      "+=====+=====+\n",
      "(showing 5 of 9 rows)\n"
     ]
    }
   ],
   "source": [
    "from tablite import Table\n",
    "\n",
    "t = Table()\n",
    "t.add_column('a', int, data=[1, 2, 8, 3, 4, 6, 5, 7, 9], allow_empty=True)\n",
    "t.add_column('b', int, data=[10, 100, 3, 4, 16, -1, 10, 10, 10])\n",
    "\n",
    "t.show(slice(5))  # first 5 rows only."
   ]
  },
  {
   "cell_type": "code",
   "execution_count": 53,
   "metadata": {
    "pycharm": {
     "name": "#%%\n"
    }
   },
   "outputs": [
    {
     "data": {
      "application/vnd.plotly.v1+json": {
       "config": {
        "plotlyServerURL": "https://plot.ly"
       },
       "data": [
        {
         "type": "scatter",
         "y": [
          1,
          2,
          8,
          3,
          4,
          6,
          5,
          7,
          9
         ]
        },
        {
         "type": "bar",
         "y": [
          10,
          100,
          3,
          4,
          16,
          -1,
          10,
          10,
          10
         ]
        }
       ],
       "layout": {
        "template": {
         "data": {
          "bar": [
           {
            "error_x": {
             "color": "#2a3f5f"
            },
            "error_y": {
             "color": "#2a3f5f"
            },
            "marker": {
             "line": {
              "color": "#E5ECF6",
              "width": 0.5
             },
             "pattern": {
              "fillmode": "overlay",
              "size": 10,
              "solidity": 0.2
             }
            },
            "type": "bar"
           }
          ],
          "barpolar": [
           {
            "marker": {
             "line": {
              "color": "#E5ECF6",
              "width": 0.5
             },
             "pattern": {
              "fillmode": "overlay",
              "size": 10,
              "solidity": 0.2
             }
            },
            "type": "barpolar"
           }
          ],
          "carpet": [
           {
            "aaxis": {
             "endlinecolor": "#2a3f5f",
             "gridcolor": "white",
             "linecolor": "white",
             "minorgridcolor": "white",
             "startlinecolor": "#2a3f5f"
            },
            "baxis": {
             "endlinecolor": "#2a3f5f",
             "gridcolor": "white",
             "linecolor": "white",
             "minorgridcolor": "white",
             "startlinecolor": "#2a3f5f"
            },
            "type": "carpet"
           }
          ],
          "choropleth": [
           {
            "colorbar": {
             "outlinewidth": 0,
             "ticks": ""
            },
            "type": "choropleth"
           }
          ],
          "contour": [
           {
            "colorbar": {
             "outlinewidth": 0,
             "ticks": ""
            },
            "colorscale": [
             [
              0,
              "#0d0887"
             ],
             [
              0.1111111111111111,
              "#46039f"
             ],
             [
              0.2222222222222222,
              "#7201a8"
             ],
             [
              0.3333333333333333,
              "#9c179e"
             ],
             [
              0.4444444444444444,
              "#bd3786"
             ],
             [
              0.5555555555555556,
              "#d8576b"
             ],
             [
              0.6666666666666666,
              "#ed7953"
             ],
             [
              0.7777777777777778,
              "#fb9f3a"
             ],
             [
              0.8888888888888888,
              "#fdca26"
             ],
             [
              1,
              "#f0f921"
             ]
            ],
            "type": "contour"
           }
          ],
          "contourcarpet": [
           {
            "colorbar": {
             "outlinewidth": 0,
             "ticks": ""
            },
            "type": "contourcarpet"
           }
          ],
          "heatmap": [
           {
            "colorbar": {
             "outlinewidth": 0,
             "ticks": ""
            },
            "colorscale": [
             [
              0,
              "#0d0887"
             ],
             [
              0.1111111111111111,
              "#46039f"
             ],
             [
              0.2222222222222222,
              "#7201a8"
             ],
             [
              0.3333333333333333,
              "#9c179e"
             ],
             [
              0.4444444444444444,
              "#bd3786"
             ],
             [
              0.5555555555555556,
              "#d8576b"
             ],
             [
              0.6666666666666666,
              "#ed7953"
             ],
             [
              0.7777777777777778,
              "#fb9f3a"
             ],
             [
              0.8888888888888888,
              "#fdca26"
             ],
             [
              1,
              "#f0f921"
             ]
            ],
            "type": "heatmap"
           }
          ],
          "heatmapgl": [
           {
            "colorbar": {
             "outlinewidth": 0,
             "ticks": ""
            },
            "colorscale": [
             [
              0,
              "#0d0887"
             ],
             [
              0.1111111111111111,
              "#46039f"
             ],
             [
              0.2222222222222222,
              "#7201a8"
             ],
             [
              0.3333333333333333,
              "#9c179e"
             ],
             [
              0.4444444444444444,
              "#bd3786"
             ],
             [
              0.5555555555555556,
              "#d8576b"
             ],
             [
              0.6666666666666666,
              "#ed7953"
             ],
             [
              0.7777777777777778,
              "#fb9f3a"
             ],
             [
              0.8888888888888888,
              "#fdca26"
             ],
             [
              1,
              "#f0f921"
             ]
            ],
            "type": "heatmapgl"
           }
          ],
          "histogram": [
           {
            "marker": {
             "pattern": {
              "fillmode": "overlay",
              "size": 10,
              "solidity": 0.2
             }
            },
            "type": "histogram"
           }
          ],
          "histogram2d": [
           {
            "colorbar": {
             "outlinewidth": 0,
             "ticks": ""
            },
            "colorscale": [
             [
              0,
              "#0d0887"
             ],
             [
              0.1111111111111111,
              "#46039f"
             ],
             [
              0.2222222222222222,
              "#7201a8"
             ],
             [
              0.3333333333333333,
              "#9c179e"
             ],
             [
              0.4444444444444444,
              "#bd3786"
             ],
             [
              0.5555555555555556,
              "#d8576b"
             ],
             [
              0.6666666666666666,
              "#ed7953"
             ],
             [
              0.7777777777777778,
              "#fb9f3a"
             ],
             [
              0.8888888888888888,
              "#fdca26"
             ],
             [
              1,
              "#f0f921"
             ]
            ],
            "type": "histogram2d"
           }
          ],
          "histogram2dcontour": [
           {
            "colorbar": {
             "outlinewidth": 0,
             "ticks": ""
            },
            "colorscale": [
             [
              0,
              "#0d0887"
             ],
             [
              0.1111111111111111,
              "#46039f"
             ],
             [
              0.2222222222222222,
              "#7201a8"
             ],
             [
              0.3333333333333333,
              "#9c179e"
             ],
             [
              0.4444444444444444,
              "#bd3786"
             ],
             [
              0.5555555555555556,
              "#d8576b"
             ],
             [
              0.6666666666666666,
              "#ed7953"
             ],
             [
              0.7777777777777778,
              "#fb9f3a"
             ],
             [
              0.8888888888888888,
              "#fdca26"
             ],
             [
              1,
              "#f0f921"
             ]
            ],
            "type": "histogram2dcontour"
           }
          ],
          "mesh3d": [
           {
            "colorbar": {
             "outlinewidth": 0,
             "ticks": ""
            },
            "type": "mesh3d"
           }
          ],
          "parcoords": [
           {
            "line": {
             "colorbar": {
              "outlinewidth": 0,
              "ticks": ""
             }
            },
            "type": "parcoords"
           }
          ],
          "pie": [
           {
            "automargin": true,
            "type": "pie"
           }
          ],
          "scatter": [
           {
            "marker": {
             "colorbar": {
              "outlinewidth": 0,
              "ticks": ""
             }
            },
            "type": "scatter"
           }
          ],
          "scatter3d": [
           {
            "line": {
             "colorbar": {
              "outlinewidth": 0,
              "ticks": ""
             }
            },
            "marker": {
             "colorbar": {
              "outlinewidth": 0,
              "ticks": ""
             }
            },
            "type": "scatter3d"
           }
          ],
          "scattercarpet": [
           {
            "marker": {
             "colorbar": {
              "outlinewidth": 0,
              "ticks": ""
             }
            },
            "type": "scattercarpet"
           }
          ],
          "scattergeo": [
           {
            "marker": {
             "colorbar": {
              "outlinewidth": 0,
              "ticks": ""
             }
            },
            "type": "scattergeo"
           }
          ],
          "scattergl": [
           {
            "marker": {
             "colorbar": {
              "outlinewidth": 0,
              "ticks": ""
             }
            },
            "type": "scattergl"
           }
          ],
          "scattermapbox": [
           {
            "marker": {
             "colorbar": {
              "outlinewidth": 0,
              "ticks": ""
             }
            },
            "type": "scattermapbox"
           }
          ],
          "scatterpolar": [
           {
            "marker": {
             "colorbar": {
              "outlinewidth": 0,
              "ticks": ""
             }
            },
            "type": "scatterpolar"
           }
          ],
          "scatterpolargl": [
           {
            "marker": {
             "colorbar": {
              "outlinewidth": 0,
              "ticks": ""
             }
            },
            "type": "scatterpolargl"
           }
          ],
          "scatterternary": [
           {
            "marker": {
             "colorbar": {
              "outlinewidth": 0,
              "ticks": ""
             }
            },
            "type": "scatterternary"
           }
          ],
          "surface": [
           {
            "colorbar": {
             "outlinewidth": 0,
             "ticks": ""
            },
            "colorscale": [
             [
              0,
              "#0d0887"
             ],
             [
              0.1111111111111111,
              "#46039f"
             ],
             [
              0.2222222222222222,
              "#7201a8"
             ],
             [
              0.3333333333333333,
              "#9c179e"
             ],
             [
              0.4444444444444444,
              "#bd3786"
             ],
             [
              0.5555555555555556,
              "#d8576b"
             ],
             [
              0.6666666666666666,
              "#ed7953"
             ],
             [
              0.7777777777777778,
              "#fb9f3a"
             ],
             [
              0.8888888888888888,
              "#fdca26"
             ],
             [
              1,
              "#f0f921"
             ]
            ],
            "type": "surface"
           }
          ],
          "table": [
           {
            "cells": {
             "fill": {
              "color": "#EBF0F8"
             },
             "line": {
              "color": "white"
             }
            },
            "header": {
             "fill": {
              "color": "#C8D4E3"
             },
             "line": {
              "color": "white"
             }
            },
            "type": "table"
           }
          ]
         },
         "layout": {
          "annotationdefaults": {
           "arrowcolor": "#2a3f5f",
           "arrowhead": 0,
           "arrowwidth": 1
          },
          "autotypenumbers": "strict",
          "coloraxis": {
           "colorbar": {
            "outlinewidth": 0,
            "ticks": ""
           }
          },
          "colorscale": {
           "diverging": [
            [
             0,
             "#8e0152"
            ],
            [
             0.1,
             "#c51b7d"
            ],
            [
             0.2,
             "#de77ae"
            ],
            [
             0.3,
             "#f1b6da"
            ],
            [
             0.4,
             "#fde0ef"
            ],
            [
             0.5,
             "#f7f7f7"
            ],
            [
             0.6,
             "#e6f5d0"
            ],
            [
             0.7,
             "#b8e186"
            ],
            [
             0.8,
             "#7fbc41"
            ],
            [
             0.9,
             "#4d9221"
            ],
            [
             1,
             "#276419"
            ]
           ],
           "sequential": [
            [
             0,
             "#0d0887"
            ],
            [
             0.1111111111111111,
             "#46039f"
            ],
            [
             0.2222222222222222,
             "#7201a8"
            ],
            [
             0.3333333333333333,
             "#9c179e"
            ],
            [
             0.4444444444444444,
             "#bd3786"
            ],
            [
             0.5555555555555556,
             "#d8576b"
            ],
            [
             0.6666666666666666,
             "#ed7953"
            ],
            [
             0.7777777777777778,
             "#fb9f3a"
            ],
            [
             0.8888888888888888,
             "#fdca26"
            ],
            [
             1,
             "#f0f921"
            ]
           ],
           "sequentialminus": [
            [
             0,
             "#0d0887"
            ],
            [
             0.1111111111111111,
             "#46039f"
            ],
            [
             0.2222222222222222,
             "#7201a8"
            ],
            [
             0.3333333333333333,
             "#9c179e"
            ],
            [
             0.4444444444444444,
             "#bd3786"
            ],
            [
             0.5555555555555556,
             "#d8576b"
            ],
            [
             0.6666666666666666,
             "#ed7953"
            ],
            [
             0.7777777777777778,
             "#fb9f3a"
            ],
            [
             0.8888888888888888,
             "#fdca26"
            ],
            [
             1,
             "#f0f921"
            ]
           ]
          },
          "colorway": [
           "#636efa",
           "#EF553B",
           "#00cc96",
           "#ab63fa",
           "#FFA15A",
           "#19d3f3",
           "#FF6692",
           "#B6E880",
           "#FF97FF",
           "#FECB52"
          ],
          "font": {
           "color": "#2a3f5f"
          },
          "geo": {
           "bgcolor": "white",
           "lakecolor": "white",
           "landcolor": "#E5ECF6",
           "showlakes": true,
           "showland": true,
           "subunitcolor": "white"
          },
          "hoverlabel": {
           "align": "left"
          },
          "hovermode": "closest",
          "mapbox": {
           "style": "light"
          },
          "paper_bgcolor": "white",
          "plot_bgcolor": "#E5ECF6",
          "polar": {
           "angularaxis": {
            "gridcolor": "white",
            "linecolor": "white",
            "ticks": ""
           },
           "bgcolor": "#E5ECF6",
           "radialaxis": {
            "gridcolor": "white",
            "linecolor": "white",
            "ticks": ""
           }
          },
          "scene": {
           "xaxis": {
            "backgroundcolor": "#E5ECF6",
            "gridcolor": "white",
            "gridwidth": 2,
            "linecolor": "white",
            "showbackground": true,
            "ticks": "",
            "zerolinecolor": "white"
           },
           "yaxis": {
            "backgroundcolor": "#E5ECF6",
            "gridcolor": "white",
            "gridwidth": 2,
            "linecolor": "white",
            "showbackground": true,
            "ticks": "",
            "zerolinecolor": "white"
           },
           "zaxis": {
            "backgroundcolor": "#E5ECF6",
            "gridcolor": "white",
            "gridwidth": 2,
            "linecolor": "white",
            "showbackground": true,
            "ticks": "",
            "zerolinecolor": "white"
           }
          },
          "shapedefaults": {
           "line": {
            "color": "#2a3f5f"
           }
          },
          "ternary": {
           "aaxis": {
            "gridcolor": "white",
            "linecolor": "white",
            "ticks": ""
           },
           "baxis": {
            "gridcolor": "white",
            "linecolor": "white",
            "ticks": ""
           },
           "bgcolor": "#E5ECF6",
           "caxis": {
            "gridcolor": "white",
            "linecolor": "white",
            "ticks": ""
           }
          },
          "title": {
           "x": 0.05
          },
          "xaxis": {
           "automargin": true,
           "gridcolor": "white",
           "linecolor": "white",
           "ticks": "",
           "title": {
            "standoff": 15
           },
           "zerolinecolor": "white",
           "zerolinewidth": 2
          },
          "yaxis": {
           "automargin": true,
           "gridcolor": "white",
           "linecolor": "white",
           "ticks": "",
           "title": {
            "standoff": 15
           },
           "zerolinecolor": "white",
           "zerolinewidth": 2
          }
         }
        },
        "title": {
         "text": "Hello Figure"
        }
       }
      }
     },
     "metadata": {},
     "output_type": "display_data"
    }
   ],
   "source": [
    "import plotly.graph_objects as go\n",
    "fig = go.Figure()\n",
    "fig.add_trace(go.Scatter(y=t['a']))  # <-- get column 'a' from Table t\n",
    "fig.add_trace(go.Bar(y=t['b']))  #     <-- get column 'b' from Table t\n",
    "fig.update_layout(title = 'Hello Figure')\n",
    "fig.show()"
   ]
  },
  {
   "cell_type": "markdown",
   "metadata": {
    "pycharm": {
     "name": "#%% md\n"
    }
   },
   "source": [
    "### But what do I do if I'm about to run out of memory?\n",
    "\n",
    "You can drop tables from memory onto disk at runtime with this command: `table.use_disk=True`\n",
    "\n",
    "I have a 308 Gb library with txt, csv and excel files with all kinds of locales that I\n",
    "use for testing. To cope with this on a raspberry pi I do this:\n",
    "```\n",
    "from tablite import Table\n",
    "Table.new_tables_use_disk = True  # Sets global property for all new tables.\n",
    "\n",
    "path = 'zip_full_of_large_csvs.zip'  # 308 Gb unzipped.\n",
    "tables = file_reader(path)  # a generator\n",
    "\n",
    "for table in tables:\n",
    "    # do the tests...\n",
    "```\n",
    "\n",
    "`tables` is a generator that reads one file at a time. Some users tend to use `tables = list(file_reader(path))`\n",
    "and then pick the tables as they'd like. For example `table1 = tables[0]`.\n",
    "\n",
    "With `Table.new_tables_use_disk = True` tablite uses 11 Mb of memory to manage 308 Gb of data.\n",
    "The 308Gb can't magically vanish, so you will find that `tablite` uses\n",
    "`gettempdir` from pythons builtin `tempfile` module. The 308 Gb will be here.\n",
    "_Hint: USB 3.0 makes it tolerable_ on a raspberry pi.\n",
    "\n",
    "Consuming the generator to make a list (in `tables = list(...)`) will load all tables, and with\n",
    "308 Gb that will take some time. Instead I use `table1 = next(file_reader(path))` as this reads\n",
    "the data one table at a time.\n",
    "\n",
    "\n",
    "Let's do a comparison:"
   ]
  },
  {
   "cell_type": "markdown",
   "metadata": {},
   "source": [
    "1/16. Start python from the command line\n",
    "\n",
    "2/16. import the libraries.\n",
    "\n",
    "```\n",
    "from tablite import StoredList, Table\n",
    "```\n",
    "\n",
    "3/16. Decide for test size that fits into memory.\n",
    "\n",
    "```\n",
    "digits = 1_000_000\n",
    "```\n",
    "\n",
    "4/16. Go and check taskmanagers memory usage now as the imports are loaded. At this point were using ~20.3 Mb ram to python started.\n",
    "\n",
    "5/16. Set up the common and convenient \"row\" based format\n",
    "```\n",
    "L = [tuple(11 for i in range(10) for j in range(digits)]\n",
    "```\n",
    "\n",
    "6/16. Go and check taskmanagers memory usage. At this point we're using ~154.2 Mb to store 1 million lists with 10 items. \n",
    "\n",
    "7/16. clear the memory\n",
    "\n",
    "```\n",
    "L.clear()\n",
    "```\n",
    "\n",
    "8/16. Set up a \"columnar\" format instead\n",
    "\n",
    "```\n",
    "L = [[11 for i in range(digits)] for _ in range(10)]\n",
    "```\n",
    "\n",
    "9/16. Go and check taskmanagers memory usage. At this point we're using ~98.2 Mb to store 10 lists with 1 million items.\n",
    "\n",
    "10/16. clear the memory\n",
    "\n",
    "```\n",
    "L.clear()\n",
    "```"
   ]
  },
  {
   "cell_type": "markdown",
   "metadata": {},
   "source": [
    "We've thereby saved 50 Mb by avoiding the overhead from managing 1 million lists.\n",
    "\n",
    "    Python alone: 20.3 Mb\n",
    "    1,000,000 lists of 10 values: 154 Mb ram with 134 Mb for the lists and data.\n",
    "    10 lists of 1,000,000 values: 98.2 Mb ram with 78 Mb for lists and data.\n",
    "    Saved: 100% - (78 Mb / 134 Mb) = 44%.\n",
    "\n",
    "Q: But why didn't I just use an array? It would have even lower memory footprint.\n",
    "A: First, array's don't handle `None`'s and we get that frequently in dirty csv data.\n",
    "Second, Table needs even less memory."
   ]
  },
  {
   "cell_type": "markdown",
   "metadata": {},
   "source": [
    "10/16. Let's start with an array\n",
    "```\n",
    "import array\n",
    "L = [array.array('i', [11 for _ in range(digits)]) for j in range(10)]\n",
    "```\n",
    "\n",
    "11/16. Go and check taskmanagers memory usage.|at this point we're using 60.0 Mb to store 10 lists with 1 million integers.\n",
    "\n",
    "12/16. Clear the memory\n",
    "\n",
    "```\n",
    "L.clear()\n",
    "```\n",
    "\n",
    "Now let's use Tablite:\n",
    "\n",
    "13/16. set up the Tablite Table\n",
    "```\n",
    "t = Table()\n",
    "for i in range(10):\n",
    "    t.add_column(str(i), int, allow_empty=False, data=[11 for _ in range(digits)])\n",
    "```\n",
    "\n",
    "14/16. Go and check taskmanagers memory usage. At this point we're using  97.5 Mb to store 10 columns with 1 million integers.\n",
    "\n",
    "15/16. Use the api `use_stored_lists` to drop to disk\n",
    "\n",
    "```\n",
    "t.use_disk = True\n",
    "```\n",
    "\n",
    "16/16. Go and check taskmanagers memory usage. At this point we're using **24.5 Mb** to store 10 columns with 1 million integers including python! "
   ]
  },
  {
   "cell_type": "markdown",
   "metadata": {},
   "source": [
    "**Summary of measurements**\n",
    "\n",
    "|Data structure | Memory usage | Python | Net |\n",
    "|:---|---|---|---|\n",
    "|Row based | 154 Mb | 20.3 Mb | 133.7 Mb |\n",
    "|column based | 98.2 Mb | 20.3 Mb | 77.9 Mb |\n",
    "|tablite RAM | 97.5 Mb | 20.3 Mb | 77.2 Mb |\n",
    "|column based arrays | 60.0 Mb | 20.3Mb | 39.7 Mb |\n",
    "|tablite DISK | 24.5 Mb | 20.3 Mb | 4.2 Mb |"
   ]
  },
  {
   "cell_type": "markdown",
   "metadata": {},
   "source": [
    "*Conclusion*: A drop from 154.2 Mb to 24.5 Mb working memory using tables in 1 line of code: `t.use_disk = True`.\n",
    "\n",
    "_more hints:_\n",
    "\n",
    "- If you want all your tables to be on disk, set the class variable `Table.new_tables_use_disk = True`.\n",
    "- If you want a single table to be on disk, use `t = Table(use_disk=True)`.\n",
    "- If you want an existing table to drop to disk use: `t.use_disk = True`"
   ]
  },
  {
   "cell_type": "markdown",
   "metadata": {
    "pycharm": {
     "name": "#%% md\n"
    }
   },
   "source": [
    "# API Examples\n",
    "\n",
    "In the following sections, example are given of the Tablite API's power features:\n",
    "\n",
    "- Iteration\n",
    "- Sort\n",
    "- Filter\n",
    "- Index\n",
    "- Search All \n",
    "- Search Any\n",
    "- Lookup\n",
    "- Join inner, outer, \n",
    "- GroupBy\n",
    "- Pivot table\n"
   ]
  },
  {
   "cell_type": "markdown",
   "metadata": {
    "pycharm": {
     "name": "#%% md\n"
    }
   },
   "source": [
    "### Iteration\n",
    "\n",
    "**_Iteration_** supports for loops and list comprehension at the speed of c:\n",
    "\n",
    "Just use `[r for r in table.rows]`, or:\n",
    "\n",
    "    for row in table.rows:\n",
    "        row ...\n",
    "\n",
    "Here's a more practical use case:\n",
    "\n",
    "(1) Imagine a table with columns a,b,c,d,e (all integers) like this:"
   ]
  },
  {
   "cell_type": "code",
   "execution_count": 54,
   "metadata": {
    "pycharm": {
     "name": "#%%\n"
    }
   },
   "outputs": [],
   "source": [
    "t = Table()\n",
    "_ = [t.add_column(header=c, datatype=int, allow_empty=False, data=[i for i in range(5)]) for c in 'abcde']"
   ]
  },
  {
   "cell_type": "markdown",
   "metadata": {
    "pycharm": {
     "name": "#%% md\n"
    }
   },
   "source": [
    "(2) we want to add two new columns using the functions:"
   ]
  },
  {
   "cell_type": "code",
   "execution_count": 55,
   "metadata": {
    "pycharm": {
     "name": "#%%\n"
    }
   },
   "outputs": [],
   "source": [
    "def f1(a,b,c):\n",
    "    return a+b+c+1\n",
    "def f2(b,c,d):\n",
    "    return b*c*d"
   ]
  },
  {
   "cell_type": "markdown",
   "metadata": {
    "pycharm": {
     "name": "#%% md\n"
    }
   },
   "source": [
    "(3) and we want to compute two new columns `f` and `g`:"
   ]
  },
  {
   "cell_type": "code",
   "execution_count": 56,
   "metadata": {
    "pycharm": {
     "name": "#%%\n"
    }
   },
   "outputs": [],
   "source": [
    "t.add_column(header='f', datatype=int, allow_empty=False)\n",
    "t.add_column(header='g', datatype=int, allow_empty=True)"
   ]
  },
  {
   "cell_type": "markdown",
   "metadata": {
    "pycharm": {
     "name": "#%% md\n"
    }
   },
   "source": [
    "(4) we can now use the filter, to iterate over the table, and add the values to the two new columns:"
   ]
  },
  {
   "cell_type": "code",
   "execution_count": 57,
   "metadata": {
    "pycharm": {
     "name": "#%%\n"
    }
   },
   "outputs": [
    {
     "name": "stdout",
     "output_type": "stream",
     "text": [
      "+=====+=====+=====+=====+=====+=====+=====+\n",
      "|  a  |  b  |  c  |  d  |  e  |  f  |  g  |\n",
      "| int | int | int | int | int | int | int |\n",
      "|False|False|False|False|False|False| True|\n",
      "+-----+-----+-----+-----+-----+-----+-----+\n",
      "|    0|    0|    0|    0|    0|    1|    0|\n",
      "|    1|    1|    1|    1|    1|    4|    1|\n",
      "|    2|    2|    2|    2|    2|    7|    8|\n",
      "|    3|    3|    3|    3|    3|   10|   27|\n",
      "|    4|    4|    4|    4|    4|   13|   64|\n",
      "+=====+=====+=====+=====+=====+=====+=====+\n",
      "showing all 5 rows\n"
     ]
    }
   ],
   "source": [
    "for row in t.filter('a', 'b', 'c', 'd'):\n",
    "    a, b, c, d = row\n",
    "\n",
    "    t['f'].append(f1(a, b, c))\n",
    "    t['g'].append(f2(b, c, d))\n",
    "\n",
    "assert len(t) == 5\n",
    "assert list(t.columns) == list('abcdefg')\n",
    "t.show()"
   ]
  },
  {
   "cell_type": "markdown",
   "metadata": {
    "pycharm": {
     "name": "#%% md\n"
    }
   },
   "source": [
    "### Sort\n",
    "\n",
    "\n",
    "**_Sort_** supports multi-column sort as simple as `table.sort(**{'A': False, 'B': True, 'C': False})`\n",
    "\n",
    "The boolean uses same interpretation as `reverse` when sorting a list.\n",
    "\n",
    "Here's an example:"
   ]
  },
  {
   "cell_type": "code",
   "execution_count": 58,
   "metadata": {
    "pycharm": {
     "name": "#%%\n"
    }
   },
   "outputs": [
    {
     "name": "stdout",
     "output_type": "stream",
     "text": [
      "+=====+=====+=====+\n",
      "|  A  |  B  |  C  |\n",
      "| int | int | int |\n",
      "| True|False|False|\n",
      "+-----+-----+-----+\n",
      "|    4|    1|    0|\n",
      "|    8|    1|    0|\n",
      "|    3|    1|    1|\n",
      "|    6|    1|    1|\n",
      "|    1|   10|    0|\n",
      "|    5|   10|    0|\n",
      "|    9|   10|    0|\n",
      "|    7|   10|    1|\n",
      "|None |  100|    1|\n",
      "+=====+=====+=====+\n",
      "showing all 9 rows\n"
     ]
    }
   ],
   "source": [
    "table7 = Table()\n",
    "table7.add_column('A', int, data=[1, None, 8, 3, 4, 6, 5, 7, 9], allow_empty=True)\n",
    "table7.add_column('B', int, data=[10, 100, 1, 1, 1, 1, 10, 10, 10])\n",
    "table7.add_column('C', int, data=[0, 1, 0, 1, 0, 1, 0, 1, 0])\n",
    "\n",
    "table7.sort(**{'B': False, 'C': False, 'A': False})\n",
    "\n",
    "assert list(table7.rows) == [\n",
    "    (4, 1, 0),\n",
    "    (8, 1, 0),\n",
    "    (3, 1, 1),\n",
    "    (6, 1, 1),\n",
    "    (1, 10, 0),\n",
    "    (5, 10, 0),\n",
    "    (9, 10, 0),\n",
    "    (7, 10, 1),\n",
    "    (None, 100, 1)\n",
    "]\n",
    "table7.show()"
   ]
  },
  {
   "cell_type": "markdown",
   "metadata": {
    "pycharm": {
     "name": "#%% md\n"
    }
   },
   "source": [
    "This takes us to filter."
   ]
  },
  {
   "cell_type": "markdown",
   "metadata": {
    "pycharm": {
     "name": "#%% md\n"
    }
   },
   "source": [
    "### Filter\n",
    "\n",
    "\n",
    "**_Filter_** allows selection of particular rows like:\n",
    "\n",
    "    for row in table.filter('b', 'a', 'a', 'c')\n",
    "        b,a,a,c = row\n",
    "\n",
    "So and if you only want a slice, for example column A and B for rows 4-8 from\n",
    "table7, you'd do it like this: `list(table7.filter('A', 'B', slice(4, 8)))`.\n",
    "\n",
    "Hereby you'd get:"
   ]
  },
  {
   "cell_type": "code",
   "execution_count": 59,
   "metadata": {
    "pycharm": {
     "name": "#%%\n"
    }
   },
   "outputs": [],
   "source": [
    "assert list(table7.filter('A', 'B', slice(4, 8))) == [\n",
    "    (1, 10),\n",
    "    (5, 10),\n",
    "    (9, 10),\n",
    "    (7, 10)\n",
    "]"
   ]
  },
  {
   "cell_type": "markdown",
   "metadata": {
    "pycharm": {
     "name": "#%% md\n"
    }
   },
   "source": [
    "As you can see, the table is sorted first by column `B` in ascending order, then\n",
    "by column 'C' and finally by column 'A'. Note that `None` is handled as `float('-inf')`"
   ]
  },
  {
   "cell_type": "markdown",
   "metadata": {
    "pycharm": {
     "name": "#%% md\n"
    }
   },
   "source": [
    "### Create Index / Indices\n",
    "\n",
    "\n",
    "**_Index_** supports multi-key indexing using args: `table.index('B','C')`.\n",
    "\n",
    "This gives you a dictionary with the key as a tuple and the indices as a set, e.g.\n",
    "\n",
    "    indices = {\n",
    "        (1, 44): {2,3,33,35}\n",
    "        (2, 44): {4,5,32}\n",
    "    }\n",
    "\n",
    "You can now fetch all rows using index access methods.\n",
    "\n",
    "Here's the index from `table7`:"
   ]
  },
  {
   "cell_type": "code",
   "execution_count": 60,
   "metadata": {
    "pycharm": {
     "name": "#%%\n"
    }
   },
   "outputs": [
    {
     "data": {
      "text/plain": [
       "defaultdict(set,\n",
       "            {(1, 0): {0, 1},\n",
       "             (1, 1): {2, 3},\n",
       "             (10, 0): {4, 5, 6},\n",
       "             (10, 1): {7},\n",
       "             (100, 1): {8}})"
      ]
     },
     "execution_count": 60,
     "metadata": {},
     "output_type": "execute_result"
    }
   ],
   "source": [
    "table7.index('B', 'C')"
   ]
  },
  {
   "cell_type": "markdown",
   "metadata": {
    "pycharm": {
     "name": "#%% md\n"
    }
   },
   "source": [
    "### search using ALL and ANY\n",
    "\n",
    "**_All_** allows copy of a table where \"all\" criteria match.\n",
    "\n",
    "This allows you to use custom functions like this:"
   ]
  },
  {
   "cell_type": "code",
   "execution_count": 61,
   "metadata": {
    "pycharm": {
     "name": "#%%\n"
    }
   },
   "outputs": [],
   "source": [
    "before = [r for r in table2.rows]"
   ]
  },
  {
   "cell_type": "markdown",
   "metadata": {
    "pycharm": {
     "name": "#%%\n"
    }
   },
   "source": [
    "### Lookup\n",
    "\n",
    "Lookup is a special case of a search loop: Say for example you are planning a concert and want to make sure that your friends can make it home using public transport: You would have to find the first departure after the concert ends towards their home. A join would only give you a direct match on the time.\n",
    "\n",
    "Lookup allows you \"to iterate through a list of data and find the first match given a set of criteria.\"\n",
    "\n",
    "Here's an example:\n",
    "\n",
    "First we have our list of friends and their stops."
   ]
  },
  {
   "cell_type": "code",
   "execution_count": 62,
   "metadata": {},
   "outputs": [
    {
     "name": "stdout",
     "output_type": "stream",
     "text": [
      "+=======+=================+\n",
      "|  name |       stop      |\n",
      "|  str  |       str       |\n",
      "| False |      False      |\n",
      "+-------+-----------------+\n",
      "|Alice  |Downtown-1       |\n",
      "|Betty  |Downtown-2       |\n",
      "|Charlie|Hillside View    |\n",
      "|Dorethy|Hillside Crescent|\n",
      "|Edward |Downtown-2       |\n",
      "|Fred   |Chicago          |\n",
      "+=======+=================+\n",
      "showing all 6 rows\n"
     ]
    }
   ],
   "source": [
    "friends = Table()\n",
    "friends.add_column(\"name\", str, data=['Alice', 'Betty', 'Charlie', 'Dorethy', 'Edward', 'Fred'])\n",
    "friends.add_column(\"stop\", str, data=['Downtown-1', 'Downtown-2', 'Hillside View', 'Hillside Crescent', 'Downtown-2', 'Chicago'])\n",
    "friends.show()"
   ]
  },
  {
   "cell_type": "markdown",
   "metadata": {},
   "source": [
    "Next we need a list of bus routes and their time and stops. I don't have that, so I'm making one up:"
   ]
  },
  {
   "cell_type": "code",
   "execution_count": 63,
   "metadata": {},
   "outputs": [
    {
     "name": "stdout",
     "output_type": "stream",
     "text": [
      "Departures from Concert Hall towards ...\n",
      "+========+=================+=====+\n",
      "|  time  |       stop      |route|\n",
      "|  time  |       str       | int |\n",
      "| False  |      False      |False|\n",
      "+--------+-----------------+-----+\n",
      "|21:02:00|Random Road-6    |    2|\n",
      "|21:05:00|Hillside Crescent|    2|\n",
      "|21:06:00|Hillside         |    1|\n",
      "|21:25:00|Random Road-24   |    1|\n",
      "|21:29:00|Random Road-16   |    1|\n",
      "|21:32:00|Random Road-21   |    1|\n",
      "|21:33:00|Random Road-12   |    1|\n",
      "|21:36:00|Random Road-23   |    3|\n",
      "|21:38:00|Central station  |    2|\n",
      "|21:38:00|Random Road-8    |    2|\n",
      "+========+=================+=====+\n",
      "showing all 10 rows\n"
     ]
    }
   ],
   "source": [
    "import random\n",
    "random.seed(11)\n",
    "table_size = 40\n",
    "\n",
    "times = [DataTypes.time(random.randint(21, 23), random.randint(0, 59)) for i in range(table_size)]\n",
    "stops = ['Stadium', 'Hillside', 'Hillside View', 'Hillside Crescent', 'Downtown-1', 'Downtown-2',\n",
    "         'Central station'] * 2 + [f'Random Road-{i}' for i in range(table_size)]\n",
    "route = [random.choice([1, 2, 3]) for i in stops]\n",
    "\n",
    "bustable = Table()\n",
    "bustable.add_column(\"time\", DataTypes.time, data=times)\n",
    "bustable.add_column(\"stop\", str, data=stops[:table_size])\n",
    "bustable.add_column(\"route\", int, data=route[:table_size])\n",
    "\n",
    "bustable.sort(**{'time': False})\n",
    "\n",
    "print(\"Departures from Concert Hall towards ...\")\n",
    "bustable[:10].show()"
   ]
  },
  {
   "cell_type": "markdown",
   "metadata": {},
   "source": [
    "Let's say the concerts ends at 21:00 and it takes a 10 minutes to get to the bus-stop. Earliest departure must then be 21:10 - goodbye hugs included."
   ]
  },
  {
   "cell_type": "code",
   "execution_count": 64,
   "metadata": {},
   "outputs": [
    {
     "name": "stdout",
     "output_type": "stream",
     "text": [
      "+=======+=================+========+=================+=====+\n",
      "|  name |       stop      |  time  |      stop_1     |route|\n",
      "|  str  |       str       |  time  |       str       | int |\n",
      "|  True |       True      |  True  |       True      | True|\n",
      "+-------+-----------------+--------+-----------------+-----+\n",
      "|Fred   |Chicago          |None    |None             |None |\n",
      "|Betty  |Downtown-2       |21:51:00|Downtown-2       |    1|\n",
      "|Edward |Downtown-2       |21:51:00|Downtown-2       |    1|\n",
      "|Charlie|Hillside View    |22:19:00|Hillside View    |    2|\n",
      "|Alice  |Downtown-1       |23:12:00|Downtown-1       |    3|\n",
      "|Dorethy|Hillside Crescent|23:54:00|Hillside Crescent|    1|\n",
      "+=======+=================+========+=================+=====+\n",
      "showing all 6 rows\n"
     ]
    }
   ],
   "source": [
    "lookup_1 = friends.lookup(bustable, (time(21,10), \"<=\", 'time'), ('stop', \"==\", 'stop'))\n",
    "lookup_1.sort(**{'time': False})\n",
    "lookup_1.show()"
   ]
  },
  {
   "cell_type": "markdown",
   "metadata": {},
   "source": [
    "Lookup's ability to custom criteria is thereby far more versatile than SQL joins. \n",
    "\n",
    "But _with great power comes great responsibility_."
   ]
  },
  {
   "cell_type": "markdown",
   "metadata": {},
   "source": [
    "### SQL join operations\n",
    "\n",
    "**_SQL JOINs_** are supported out of the box. \n",
    "\n",
    "Here are a couple of examples:"
   ]
  },
  {
   "cell_type": "code",
   "execution_count": 65,
   "metadata": {},
   "outputs": [],
   "source": [
    "# We start with creating two tables:\n",
    "numbers = Table()\n",
    "numbers.add_column('number', int, allow_empty=True, data=[1, 2, 3, 4, None])\n",
    "numbers.add_column('colour', str, data=['black', 'blue', 'white', 'white', 'blue'])\n",
    "\n",
    "letters = Table()\n",
    "letters.add_column('letter', str, allow_empty=True, data=['a', 'b', 'c', 'd', None])\n",
    "letters.add_column('color', str, data=['blue', 'white', 'orange', 'white', 'blue'])"
   ]
  },
  {
   "cell_type": "markdown",
   "metadata": {},
   "source": [
    "**Left join** would in SQL be:\n",
    "`SELECT number, letter FROM numbers LEFT JOIN letters ON numbers.colour == letters.color`\n",
    "\n",
    "with tablite it's:"
   ]
  },
  {
   "cell_type": "code",
   "execution_count": 66,
   "metadata": {},
   "outputs": [
    {
     "name": "stdout",
     "output_type": "stream",
     "text": [
      "+======+======+\n",
      "|number|letter|\n",
      "| int  | str  |\n",
      "| True | True |\n",
      "+------+------+\n",
      "|     1|None  |\n",
      "|     2|a     |\n",
      "|     2|None  |\n",
      "|     3|b     |\n",
      "|     3|d     |\n",
      "|     4|b     |\n",
      "|     4|d     |\n",
      "|None  |a     |\n",
      "|None  |None  |\n",
      "+======+======+\n",
      "showing all 9 rows\n"
     ]
    }
   ],
   "source": [
    "left_join = numbers.left_join(letters, \n",
    "                              left_keys=['colour'], right_keys=['color'], \n",
    "                              left_columns=['number'], right_columns=['letter'])\n",
    "\n",
    "left_join.show()"
   ]
  },
  {
   "cell_type": "markdown",
   "metadata": {},
   "source": [
    "**Inner join** would in SQL be:\n",
    "`SELECT number, letter FROM numbers JOIN letters ON numbers.colour == letters.color`\n",
    "\n",
    "with tablite it's"
   ]
  },
  {
   "cell_type": "code",
   "execution_count": 67,
   "metadata": {},
   "outputs": [
    {
     "name": "stdout",
     "output_type": "stream",
     "text": [
      "+======+======+\n",
      "|number|letter|\n",
      "| int  | str  |\n",
      "| True | True |\n",
      "+------+------+\n",
      "|     2|a     |\n",
      "|     2|None  |\n",
      "|None  |a     |\n",
      "|None  |None  |\n",
      "|     3|b     |\n",
      "|     3|d     |\n",
      "|     4|b     |\n",
      "|     4|d     |\n",
      "+======+======+\n",
      "showing all 8 rows\n"
     ]
    }
   ],
   "source": [
    "inner_join = numbers.inner_join(letters, \n",
    "                                left_keys=['colour'], right_keys=['color'], \n",
    "                                left_columns=['number'], right_columns=['letter'])\n",
    "inner_join.show()"
   ]
  },
  {
   "cell_type": "markdown",
   "metadata": {},
   "source": [
    "**Outer join** would in SQL be:\n",
    "`SELECT number, letter FROM numbers OUTER JOIN letters ON numbers.colour == letters.color`\n",
    "\n",
    "with tablite it's:"
   ]
  },
  {
   "cell_type": "code",
   "execution_count": 68,
   "metadata": {},
   "outputs": [
    {
     "name": "stdout",
     "output_type": "stream",
     "text": [
      "+======+======+\n",
      "|number|letter|\n",
      "| int  | str  |\n",
      "| True | True |\n",
      "+------+------+\n",
      "|     1|None  |\n",
      "|     2|a     |\n",
      "|     2|None  |\n",
      "|     3|b     |\n",
      "|     3|d     |\n",
      "|     4|b     |\n",
      "|     4|d     |\n",
      "|None  |a     |\n",
      "|None  |None  |\n",
      "|None  |c     |\n",
      "+======+======+\n",
      "showing all 10 rows\n"
     ]
    }
   ],
   "source": [
    "outer_join = numbers.outer_join(letters, \n",
    "                                left_keys=['colour'], right_keys=['color'], \n",
    "                                left_columns=['number'], right_columns=['letter'])\n",
    "outer_join.show()"
   ]
  },
  {
   "cell_type": "markdown",
   "metadata": {},
   "source": [
    "**Q: But ...I think there's a bug in the join...**  \n",
    "**A: Venn diagrams do not explain joins**.\n",
    "> A Venn diagram is a widely-used diagram style that shows the logical relation between sets, popularised by John Venn in the 1880s. The diagrams are used to teach elementary set theory, and to illustrate simple set relationships<br>[source: en.wikipedia.org](https://en.wikipedia.org/wiki/Venn_diagram)\n",
    "\n",
    "Joins operate over rows and ***when*** there are **duplicate rows**, these will be replicated in the output.\n",
    "Many beginners are surprised by this, because they didn't read the SQL standard.\n",
    "\n",
    "**Q: So what do I do?**  \n",
    "**A**: If you want to get rid of duplicates using tablite, use the `index` functionality\n",
    "across all columns and pick the first row from each index. Here's the recipe:"
   ]
  },
  {
   "cell_type": "code",
   "execution_count": 69,
   "metadata": {},
   "outputs": [
    {
     "name": "stdout",
     "output_type": "stream",
     "text": [
      "+=====+=====+\n",
      "|  A  |  B  |\n",
      "| int | int |\n",
      "|False|False|\n",
      "+-----+-----+\n",
      "|    1|    1|\n",
      "|    1|    1|\n",
      "|    1|    4|\n",
      "|    2|    2|\n",
      "|    2|    2|\n",
      "|    2|    5|\n",
      "|    3|    3|\n",
      "|    3|    3|\n",
      "|    3|    6|\n",
      "+=====+=====+\n",
      "showing all 9 rows\n"
     ]
    }
   ],
   "source": [
    "old_table = Table()\n",
    "old_table.add_column('A', int, data=[1,1,1,2,2,2,3,3,3])\n",
    "old_table.add_column('B', int, data=[1,1,4,2,2,5,3,3,6])\n",
    "old_table.show()"
   ]
  },
  {
   "cell_type": "code",
   "execution_count": 70,
   "metadata": {},
   "outputs": [
    {
     "name": "stdout",
     "output_type": "stream",
     "text": [
      "defaultdict(<class 'set'>, {(1, 1): {0, 1}, (1, 4): {2}, (2, 2): {3, 4}, (2, 5): {5}, (3, 3): {6, 7}, (3, 6): {8}})\n",
      "+=====+=====+\n",
      "|  A  |  B  |\n",
      "| int | int |\n",
      "|False|False|\n",
      "+-----+-----+\n",
      "|    1|    1|\n",
      "|    1|    4|\n",
      "|    2|    2|\n",
      "|    2|    5|\n",
      "|    3|    3|\n",
      "|    3|    6|\n",
      "+=====+=====+\n",
      "showing all 6 rows\n"
     ]
    }
   ],
   "source": [
    "# CREATE TABLE OF UNIQUE ENTRIES (a.k.a. DEDUPLICATE)\n",
    "#\n",
    "new_table = old_table.copy_columns_only()\n",
    "\n",
    "indices = old_table.index(*old_table.columns)\n",
    "print(indices)\n",
    "for key in indices:\n",
    "    new_table.add_row(key)\n",
    "\n",
    "new_table.show()  # <-- duplicates have been removed."
   ]
  },
  {
   "cell_type": "markdown",
   "metadata": {},
   "source": [
    "### GroupBy and Pivot tables\n",
    "\n",
    "\n",
    "**_GroupBy_** operations are supported using the GroupBy class.\n",
    "\n",
    "It allows summarising the data for all of the functions below:"
   ]
  },
  {
   "cell_type": "code",
   "execution_count": 71,
   "metadata": {},
   "outputs": [
    {
     "name": "stdout",
     "output_type": "stream",
     "text": [
      "+=====+=====+=====+=====+=====+=====+=====+\n",
      "|  a  |  b  |  c  |  d  |  e  |  f  |  g  |\n",
      "| int | int | int | int | int | int | int |\n",
      "|False|False|False|False|False|False| True|\n",
      "+-----+-----+-----+-----+-----+-----+-----+\n",
      "|    0|    0|    0|    0|    0|    1|    0|\n",
      "|    1|    1|    1|    1|    1|    4|    1|\n",
      "|    2|    2|    2|    2|    2|    7|    8|\n",
      "|    3|    3|    3|    3|    3|   10|   27|\n",
      "|    4|    4|    4|    4|    4|   13|   64|\n",
      "|    0|    0|    0|    0|    0|    1|    0|\n",
      "|    1|    1|    1|    1|    1|    4|    1|\n",
      "|    2|    2|    2|    2|    2|    7|    8|\n",
      "|    3|    3|    3|    3|    3|   10|   27|\n",
      "|    4|    4|    4|    4|    4|   13|   64|\n",
      "+=====+=====+=====+=====+=====+=====+=====+\n",
      "showing all 10 rows\n"
     ]
    }
   ],
   "source": [
    "t = Table()\n",
    "for c in 'abcde':\n",
    "    t.add_column(header=c, datatype=int, allow_empty=False, data=[i for i in range(5)])\n",
    "\n",
    "# we want to add two new columns using the functions:\n",
    "def f1(a, b, c):\n",
    "    return a + b + c + 1\n",
    "\n",
    "def f2(b, c, d):\n",
    "    return b * c * d\n",
    "\n",
    "# and we want to compute two new columns 'f' and 'g':\n",
    "t.add_column(header='f', datatype=int, allow_empty=False)\n",
    "t.add_column(header='g', datatype=int, allow_empty=True)\n",
    "\n",
    "# we can now use the filter, to iterate over the tablite:\n",
    "for row in t.filter('a', 'b', 'c', 'd'):\n",
    "    a, b, c, d = row\n",
    "\n",
    "    # ... and add the values to the two new columns\n",
    "    t['f'].append(f1(a, b, c))\n",
    "    t['g'].append(f2(b, c, d))\n",
    "\n",
    "t2 = t + t\n",
    "assert len(t2) == 2 * len(t)\n",
    "t2.show()"
   ]
  },
  {
   "cell_type": "code",
   "execution_count": 72,
   "metadata": {},
   "outputs": [],
   "source": [
    "from tablite import GroupBy\n",
    "gb = GroupBy"
   ]
  },
  {
   "cell_type": "code",
   "execution_count": 73,
   "metadata": {},
   "outputs": [],
   "source": [
    "g = GroupBy(keys=['a', 'b'],\n",
    "            functions=[('f', gb.max),\n",
    "                       ('f', gb.min),\n",
    "                       ('f', gb.sum),\n",
    "                       ('f', gb.first),\n",
    "                       ('f', gb.last),\n",
    "                       ('f', gb.count),\n",
    "                       ('f', gb.count_unique),\n",
    "                       ('f', gb.avg),\n",
    "                       ('f', gb.stdev),\n",
    "                       ('a', gb.stdev),\n",
    "                       ('f', gb.median),\n",
    "                       ('f', gb.mode),\n",
    "                       ('g', gb.median)])\n",
    "\n",
    "g += t2  # here we add the data incrementally."
   ]
  },
  {
   "cell_type": "code",
   "execution_count": 74,
   "metadata": {},
   "outputs": [
    {
     "name": "stdout",
     "output_type": "stream",
     "text": [
      "+=====+=====+======+======+======+========+=======+\n",
      "|  a  |  b  |Max(f)|Min(f)|Sum(f)|First(f)|Last(f)|\n",
      "| int | int | int  | int  | int  |  int   |  int  |\n",
      "| True| True| True | True | True |  True  |  True |\n",
      "+-----+-----+------+------+------+--------+-------+\n",
      "|    0|    0|     1|     1|     2|       1|      1|\n",
      "|    1|    1|     4|     4|     8|       4|      4|\n",
      "|    2|    2|     7|     7|    14|       7|      7|\n",
      "|    3|    3|    10|    10|    20|      10|     10|\n",
      "|    4|    4|    13|    13|    26|      13|     13|\n",
      "+=====+=====+======+======+======+========+=======+\n",
      "showing all 5 rows\n"
     ]
    }
   ],
   "source": [
    "g.table.show('a','b','Max(f)','Min(f)','Sum(f)','First(f)','Last(f)')  # sample of all computed functions."
   ]
  },
  {
   "cell_type": "markdown",
   "metadata": {},
   "source": [
    "Note that groupby is instantiated on it's own, without any data, and then\n",
    "data is added using `+=` ? That's because I wanted the GroupBy class to be\n",
    "friendly to updates that otherwise might run out of memory. Here's the case:\n",
    "\n",
    "(1) Imagine you have a large number of files that you want to summarize.\n",
    "\n",
    "For this you first need a groupby operation:\n",
    "```\n",
    "g = GroupBy(keys=['a','b'], functions=[('c', StandardDeviation), ('d', Average)])\n",
    "```\n",
    "\n",
    "(2) now you can just iterate over the files and not having to worry about \n",
    "the memory footprint, as each table is consumed by the groupby function:\n",
    "```\n",
    "files = Path(__file__).parent / 'archive'\n",
    "assert files.isdir()  \n",
    "for file in files.iterdir():\n",
    "    json_str = json.loads(file.read())\n",
    "    table = Table.from_json(json)\n",
    "    g += table\n",
    "```\n",
    "\n",
    "(3) Once all files have been summarized, you can read the results using\n",
    "Pythons friendly for loop:\n",
    "```\n",
    "for a, b, stdev, avg in g.rows:\n",
    "     # ... do something ...\n",
    "```"
   ]
  },
  {
   "cell_type": "markdown",
   "metadata": {},
   "source": [
    "### Did I say pivot table? Yes.\n",
    "\n",
    "\n",
    "**Pivot Table** included in the groupby? Yes. You can pivot the groupby on any\n",
    "column that is used for grouping. Here's a simple example:\n"
   ]
  },
  {
   "cell_type": "code",
   "execution_count": 75,
   "metadata": {},
   "outputs": [
    {
     "name": "stdout",
     "output_type": "stream",
     "text": [
      "+=====+=====+======+======+\n",
      "|  a  |  b  |Max(f)|Sum(f)|\n",
      "| int | int | int  | int  |\n",
      "| True| True| True | True |\n",
      "+-----+-----+------+------+\n",
      "|    0|    0|     1|     3|\n",
      "|    1|    1|     4|    12|\n",
      "|    2|    2|     7|    21|\n",
      "|    3|    3|    10|    30|\n",
      "|    4|    4|    13|    39|\n",
      "+=====+=====+======+======+\n",
      "showing all 5 rows\n"
     ]
    }
   ],
   "source": [
    "g2 = GroupBy(keys=['a', 'b'], functions=[('f', gb.max), ('f', gb.sum)])\n",
    "g2 += t + t + t\n",
    "\n",
    "g2.table.show()"
   ]
  },
  {
   "cell_type": "code",
   "execution_count": 76,
   "metadata": {},
   "outputs": [
    {
     "name": "stdout",
     "output_type": "stream",
     "text": [
      "+=====+==========+==========+==========+==========+==========+==========+==========+==========+==========+==========+\n",
      "|  a  |Max(f,b=0)|Sum(f,b=0)|Max(f,b=1)|Sum(f,b=1)|Max(f,b=2)|Sum(f,b=2)|Max(f,b=3)|Sum(f,b=3)|Max(f,b=4)|Sum(f,b=4)|\n",
      "| int |   int    |   int    |   int    |   int    |   int    |   int    |   int    |   int    |   int    |   int    |\n",
      "|False|   True   |   True   |   True   |   True   |   True   |   True   |   True   |   True   |   True   |   True   |\n",
      "+-----+----------+----------+----------+----------+----------+----------+----------+----------+----------+----------+\n",
      "|    0|         1|         3|None      |None      |None      |None      |None      |None      |None      |None      |\n",
      "|    1|None      |None      |         4|        12|None      |None      |None      |None      |None      |None      |\n",
      "|    2|None      |None      |None      |None      |         7|        21|None      |None      |None      |None      |\n",
      "|    3|None      |None      |None      |None      |None      |None      |        10|        30|None      |None      |\n",
      "|    4|None      |None      |None      |None      |None      |None      |None      |None      |        13|        39|\n",
      "+=====+==========+==========+==========+==========+==========+==========+==========+==========+==========+==========+\n",
      "showing all 5 rows\n"
     ]
    }
   ],
   "source": [
    "pivot_table = g2.pivot('b')\n",
    "\n",
    "pivot_table.show()"
   ]
  },
  {
   "cell_type": "markdown",
   "metadata": {},
   "source": [
    "### If somebody sent me data that is already pivoted, how can I reverse it?\n",
    "\n",
    "Let's assume the data arrived as this:\n",
    "\n",
    "```\n",
    "+=========+=====+=====+=====+=====+=====+\n",
    "|record id|4.0.a|4.1.a|4.2.a|4.3.a|4.4.a|\n",
    "|   int   | str | str | str | str | str |\n",
    "|  False  | True| True| True| True| True|\n",
    "+---------+-----+-----+-----+-----+-----+\n",
    "|        0|None |e    |a    |h    |e    |\n",
    "|        1|None |h    |a    |e    |e    |\n",
    "|        2|None |a    |h    |None |h    |\n",
    "|        3|h    |a    |h    |a    |e    |\n",
    "|        4|h    |None |a    |a    |a    |\n",
    "|        5|None |None |None |None |a    |\n",
    "|        6|h    |h    |e    |e    |a    |\n",
    "|        7|a    |a    |None |None |None |\n",
    "|        8|None |a    |h    |a    |a    |\n",
    "+=========+=====+=====+=====+=====+=====+\n",
    "```\n"
   ]
  },
  {
   "cell_type": "code",
   "execution_count": 77,
   "metadata": {},
   "outputs": [
    {
     "name": "stdout",
     "output_type": "stream",
     "text": [
      "\n",
      "showing raw data:\n",
      "+=========+=====+=====+=====+=====+=====+\n",
      "|record id|4.0.a|4.1.a|4.2.a|4.3.a|4.4.a|\n",
      "|   int   | str | str | str | str | str |\n",
      "|  False  | True| True| True| True| True|\n",
      "+---------+-----+-----+-----+-----+-----+\n",
      "|        0|None |e    |a    |h    |e    |\n",
      "|        1|None |h    |a    |e    |e    |\n",
      "|        2|None |a    |h    |None |h    |\n",
      "|        3|h    |a    |h    |a    |e    |\n",
      "|        4|h    |None |a    |a    |a    |\n",
      "|        5|None |None |None |None |a    |\n",
      "|        6|h    |h    |e    |e    |a    |\n",
      "|        7|a    |a    |None |None |None |\n",
      "|        8|None |a    |h    |a    |a    |\n",
      "+=========+=====+=====+=====+=====+=====+\n",
      "showing all 9 rows\n"
     ]
    }
   ],
   "source": [
    "# Hint: You can generate this table using:\n",
    "from random import seed, choice\n",
    "seed(11)\n",
    "\n",
    "records = 9\n",
    "t = Table()\n",
    "t.add_column('record id', int, allow_empty=False, data=[i for i in range(records)])\n",
    "for column in [f\"4.{i}.a\" for i in range(5)]:\n",
    "    t.add_column(column, str, allow_empty=True, data=[choice(['a', 'h', 'e', None]) for i in range(records)])\n",
    "\n",
    "print(\"\\nshowing raw data:\")\n",
    "t.show()"
   ]
  },
  {
   "cell_type": "markdown",
   "metadata": {},
   "source": [
    "To reverse engineer the raw data, you can do this:"
   ]
  },
  {
   "cell_type": "code",
   "execution_count": 78,
   "metadata": {},
   "outputs": [],
   "source": [
    "reverse_pivot = Table()\n",
    "records = t['record id']\n",
    "reverse_pivot.add_column('record id', records.datatype, allow_empty=False)\n",
    "reverse_pivot.add_column('4.x', str, allow_empty=False)\n",
    "reverse_pivot.add_column('ahe', str, allow_empty=True)\n",
    "\n",
    "for name in t.columns:\n",
    "    if not name.startswith('4.'):\n",
    "        continue\n",
    "    column = t[name]\n",
    "    for index, entry in enumerate(column):\n",
    "        new_row = records[index], name, entry  # record id, 4.x, ahe\n",
    "        reverse_pivot.add_row(new_row)"
   ]
  },
  {
   "cell_type": "markdown",
   "metadata": {},
   "source": [
    "The \"original\" data then looks like this:"
   ]
  },
  {
   "cell_type": "code",
   "execution_count": 79,
   "metadata": {},
   "outputs": [
    {
     "name": "stdout",
     "output_type": "stream",
     "text": [
      "\n",
      "showing reversed pivot of the raw data:\n",
      "+=========+=====+=====+\n",
      "|record id| 4.x | ahe |\n",
      "|   int   | str | str |\n",
      "|  False  |False| True|\n",
      "+---------+-----+-----+\n",
      "|        0|4.0.a|None |\n",
      "|        1|4.0.a|None |\n",
      "|        2|4.0.a|None |\n",
      "|        3|4.0.a|h    |\n",
      "|        4|4.0.a|h    |\n",
      "|        5|4.0.a|None |\n",
      "|        6|4.0.a|h    |\n",
      "|        7|4.0.a|a    |\n",
      "|        8|4.0.a|None |\n",
      "|        0|4.1.a|e    |\n",
      "|        1|4.1.a|h    |\n",
      "|        2|4.1.a|a    |\n",
      "|        3|4.1.a|a    |\n",
      "|        4|4.1.a|None |\n",
      "|        5|4.1.a|None |\n",
      "|        6|4.1.a|h    |\n",
      "|        7|4.1.a|a    |\n",
      "|        8|4.1.a|a    |\n",
      "|        0|4.2.a|a    |\n",
      "|        1|4.2.a|a    |\n",
      "|        2|4.2.a|h    |\n",
      "|        3|4.2.a|h    |\n",
      "|        4|4.2.a|a    |\n",
      "|        5|4.2.a|None |\n",
      "|        6|4.2.a|e    |\n",
      "|        7|4.2.a|None |\n",
      "|        8|4.2.a|h    |\n",
      "|        0|4.3.a|h    |\n",
      "|        1|4.3.a|e    |\n",
      "|        2|4.3.a|None |\n",
      "|        3|4.3.a|a    |\n",
      "|        4|4.3.a|a    |\n",
      "|        5|4.3.a|None |\n",
      "|        6|4.3.a|e    |\n",
      "|        7|4.3.a|None |\n",
      "|        8|4.3.a|a    |\n",
      "|        0|4.4.a|e    |\n",
      "|        1|4.4.a|e    |\n",
      "|        2|4.4.a|h    |\n",
      "|        3|4.4.a|e    |\n",
      "|        4|4.4.a|a    |\n",
      "|        5|4.4.a|a    |\n",
      "|        6|4.4.a|a    |\n",
      "|        7|4.4.a|None |\n",
      "|        8|4.4.a|a    |\n",
      "+=========+=====+=====+\n",
      "showing all 45 rows\n"
     ]
    }
   ],
   "source": [
    "print(\"\\nshowing reversed pivot of the raw data:\")\n",
    "reverse_pivot.show()"
   ]
  },
  {
   "cell_type": "markdown",
   "metadata": {},
   "source": [
    "You can now \"regroup\" the data using groupby:"
   ]
  },
  {
   "cell_type": "code",
   "execution_count": 80,
   "metadata": {},
   "outputs": [
    {
     "name": "stdout",
     "output_type": "stream",
     "text": [
      "\n",
      "showing basic groupby of the reversed pivot\n",
      "+=====+=====+==========+\n",
      "| 4.x | ahe |Count(ahe)|\n",
      "| str | str |   int    |\n",
      "| True| True|   True   |\n",
      "+-----+-----+----------+\n",
      "|4.0.a|None |         5|\n",
      "|4.0.a|a    |         1|\n",
      "|4.0.a|h    |         3|\n",
      "|4.1.a|None |         2|\n",
      "|4.1.a|a    |         4|\n",
      "|4.1.a|e    |         1|\n",
      "|4.1.a|h    |         2|\n",
      "|4.2.a|None |         2|\n",
      "|4.2.a|a    |         3|\n",
      "|4.2.a|e    |         1|\n",
      "|4.2.a|h    |         3|\n",
      "|4.3.a|None |         3|\n",
      "|4.3.a|a    |         3|\n",
      "|4.3.a|e    |         2|\n",
      "|4.3.a|h    |         1|\n",
      "|4.4.a|None |         1|\n",
      "|4.4.a|a    |         4|\n",
      "|4.4.a|e    |         3|\n",
      "|4.4.a|h    |         1|\n",
      "+=====+=====+==========+\n",
      "showing all 19 rows\n"
     ]
    }
   ],
   "source": [
    "g = reverse_pivot.groupby(['4.x', 'ahe'], functions=[('ahe', GroupBy.count)])\n",
    "print(\"\\nshowing basic groupby of the reversed pivot\")\n",
    "g.table.show()"
   ]
  },
  {
   "cell_type": "markdown",
   "metadata": {},
   "source": [
    "And create a new pivot'ed summary, for example like this:"
   ]
  },
  {
   "cell_type": "code",
   "execution_count": 81,
   "metadata": {},
   "outputs": [
    {
     "name": "stdout",
     "output_type": "stream",
     "text": [
      "\n",
      "showing the wanted output:\n",
      "+=====+===================+================+================+================+\n",
      "| 4.x |Count(ahe,ahe=None)|Count(ahe,ahe=a)|Count(ahe,ahe=h)|Count(ahe,ahe=e)|\n",
      "| str |        int        |      int       |      int       |      int       |\n",
      "|False|        True       |      True      |      True      |      True      |\n",
      "+-----+-------------------+----------------+----------------+----------------+\n",
      "|4.0.a|                  5|               1|               3|None            |\n",
      "|4.1.a|                  2|               4|               2|               1|\n",
      "|4.2.a|                  2|               3|               3|               1|\n",
      "|4.3.a|                  3|               3|               1|               2|\n",
      "|4.4.a|                  1|               4|               1|               3|\n",
      "+=====+===================+================+================+================+\n",
      "showing all 5 rows\n"
     ]
    }
   ],
   "source": [
    "t2 = g.pivot('ahe')\n",
    "print(\"\\nshowing the wanted output:\")\n",
    "t2.show()"
   ]
  },
  {
   "cell_type": "markdown",
   "metadata": {},
   "source": [
    "### Conclusions\n",
    "\n",
    "This concludes the mega-tutorial to `tablite`. There's nothing more to it.\n",
    "But oh boy it'll save a lot of time.\n",
    "\n",
    "Here's a summary of features:\n",
    "\n",
    "- Everything a list can do, plus data type checking.\n",
    "- import csv*, tsv, txt, xls, xlsx, xlsm, ods, zip and log using `Table.from_file(...)`\n",
    "- import multiple files use `file_reader`.\n",
    "- Move fluently between disk and ram using `t.use_disk = True/False`\n",
    "- Iterate over rows or columns\n",
    "- Create multikey index, sort, use filter, any and all to select.\n",
    "  Lookup between tables using custom functions.\n",
    "- Perform multikey joins with other tables.\n",
    "- Perform groupby and reorganise data as a pivot table with max, min, sum, first, last, count, unique, average, st.deviation, median and mode\n",
    "- Update tables with `+=` which automatically sorts out the columns - even if they're not in perfect order.\n",
    "- Calculate out-of-memory summaries using `+=` on `groupby`, f.x. `groupby += t1`\n",
    "  \n"
   ]
  }
 ],
 "metadata": {
  "kernelspec": {
   "display_name": "Python 3 (ipykernel)",
   "language": "python",
   "name": "python3"
  },
  "language_info": {
   "codemirror_mode": {
    "name": "ipython",
    "version": 3
   },
   "file_extension": ".py",
   "mimetype": "text/x-python",
   "name": "python",
   "nbconvert_exporter": "python",
   "pygments_lexer": "ipython3",
   "version": "3.9.7"
  }
 },
 "nbformat": 4,
 "nbformat_minor": 4
}
