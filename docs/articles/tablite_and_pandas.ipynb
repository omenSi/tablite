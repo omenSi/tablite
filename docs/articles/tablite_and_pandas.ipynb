{
 "cells": [
  {
   "cell_type": "markdown",
   "metadata": {},
   "source": [
    "# Tablite and / or Pandas?"
   ]
  },
  {
   "cell_type": "markdown",
   "metadata": {},
   "source": []
  }
 ],
 "metadata": {
  "kernelspec": {
   "display_name": "Python 3.10.8 ('tablite310')",
   "language": "python",
   "name": "python3"
  },
  "language_info": {
   "name": "python",
   "version": "3.10.8"
  },
  "orig_nbformat": 4,
  "vscode": {
   "interpreter": {
    "hash": "1b75c014ea7baa1f5b7be99940e6541d4a8a7395e27dcba8ac6dff802f822df2"
   }
  }
 },
 "nbformat": 4,
 "nbformat_minor": 2
}
